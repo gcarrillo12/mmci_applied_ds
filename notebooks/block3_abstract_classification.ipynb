{
 "cells": [
  {
   "cell_type": "code",
   "execution_count": 9,
   "metadata": {},
   "outputs": [
    {
     "name": "stdout",
     "output_type": "stream",
     "text": [
      "[nltk_data] Downloading package punkt to /Users/mme/nltk_data...\n",
      "[nltk_data]   Package punkt is already up-to-date!\n",
      "[nltk_data] Downloading package stopwords to /Users/mme/nltk_data...\n",
      "[nltk_data]   Package stopwords is already up-to-date!\n"
     ]
    }
   ],
   "source": [
    "import numpy as np\n",
    "import pandas as pd\n",
    "import nltk\n",
    "import requests\n",
    "\n",
    "nltk.download('punkt')\n",
    "nltk.download('stopwords')\n",
    "\n",
    "from nltk.tokenize import word_tokenize\n",
    "from nltk.corpus import stopwords\n",
    "\n",
    "stop_words = set(stopwords.words('english'))"
   ]
  },
  {
   "cell_type": "code",
   "execution_count": 2,
   "metadata": {},
   "outputs": [],
   "source": [
    "train_url = 'https://github.com/Franck-Dernoncourt/pubmed-rct/raw/master/PubMed_20k_RCT/train.txt?raw=true'\n",
    "val_url = 'https://github.com/Franck-Dernoncourt/pubmed-rct/raw/master/PubMed_20k_RCT/dev.txt?raw=true'\n",
    "test_url = 'https://github.com/Franck-Dernoncourt/pubmed-rct/raw/master/PubMed_20k_RCT/test.txt?raw=true'\n",
    "\n",
    "train_file = '../data/pubmed20k/train.txt'\n",
    "val_file = '../data/pubmed20k/dev.txt'\n",
    "test_file = '../data/pubmed20k/test.txt'"
   ]
  },
  {
   "cell_type": "code",
   "execution_count": 17,
   "metadata": {},
   "outputs": [
    {
     "data": {
      "text/plain": [
       "(180040, 30212, 30135)"
      ]
     },
     "execution_count": 17,
     "metadata": {},
     "output_type": "execute_result"
    }
   ],
   "source": [
    "def read_pubmed_rct(url):\n",
    "\n",
    "    labels = []\n",
    "    sentences = []\n",
    "    \n",
    "    with requests.get(url) as r:\n",
    "        for line in r.iter_lines():\n",
    "            fields = line.decode('utf-8').strip().split('\\t')\n",
    "            if len(fields) == 2:\n",
    "                labels.append(fields[0])\n",
    "                sentences.append(fields[1])\n",
    "                \n",
    "    return sentences, labels\n",
    "\n",
    "s_train, l_train = read_pubmed_rct(train_url)\n",
    "s_val, l_val = read_pubmed_rct(val_url)\n",
    "s_test, l_test = read_pubmed_rct(test_url)\n",
    "\n",
    "len(s_train), len(s_val), len(s_test)"
   ]
  },
  {
   "cell_type": "code",
   "execution_count": 18,
   "metadata": {},
   "outputs": [
    {
     "name": "stdout",
     "output_type": "stream",
     "text": [
      "The labels are:\n",
      "['BACKGROUND' 'CONCLUSIONS' 'METHODS' 'OBJECTIVE' 'RESULTS']\n"
     ]
    }
   ],
   "source": [
    "print('The labels are:')\n",
    "print(np.unique(l_train))"
   ]
  },
  {
   "cell_type": "code",
   "execution_count": 19,
   "metadata": {},
   "outputs": [],
   "source": [
    "def tokenize(sentence):\n",
    "    return [w.lower() for w in word_tokenize(sentence) if ((not w in stop_words) and w.isalpha())]\n",
    "\n",
    "tokens_train = [tokenize(s) for s in s_train]\n",
    "tokens_val = [tokenize(s) for s in s_val]\n",
    "tokens_test = [tokenize(s) for s in s_test]"
   ]
  },
  {
   "cell_type": "code",
   "execution_count": 22,
   "metadata": {},
   "outputs": [
    {
     "name": "stdout",
     "output_type": "stream",
     "text": [
      "Obtained 3000 vocabulary words. Here are the first 100:\n",
      "\n",
      "['a' 'aa' 'abdominal' 'ability' 'ablation' 'able' 'abnormal'\n",
      " 'abnormalities' 'absence' 'absolute' 'absorption' 'abstinence' 'abuse'\n",
      " 'academic' 'acceptability' 'acceptable' 'acceptance' 'accepted' 'access'\n",
      " 'accompanied' 'according' 'account' 'accuracy' 'accurate' 'acetaminophen'\n",
      " 'acetate' 'achieve' 'achieved' 'achievement' 'achieving' 'acid' 'acids'\n",
      " 'acl' 'acquired' 'acquisition' 'across' 'acs' 'act' 'action' 'activation'\n",
      " 'active' 'activities' 'activity' 'actual' 'acuity' 'acupoint' 'acupoints'\n",
      " 'acupuncture' 'acute' 'ad' 'adalimumab' 'adapted' 'adaptive' 'added'\n",
      " 'adding' 'addition' 'additional' 'additionally' 'address' 'adequate'\n",
      " 'adhd' 'adherence' 'adhesion' 'adiponectin' 'adjunct' 'adjunctive'\n",
      " 'adjusted' 'adjusting' 'adjustment' 'adjuvant' 'administered'\n",
      " 'administration' 'admission' 'admitted' 'adolescent' 'adolescents'\n",
      " 'adopted' 'adult' 'adults' 'advanced' 'advantage' 'advantages' 'adverse'\n",
      " 'advice' 'ae' 'aerobic' 'aes' 'af' 'affect' 'affected' 'affecting'\n",
      " 'affects' 'africa' 'african' 'after' 'age' 'aged' 'agent' 'agents' 'ages']\n",
      "\n",
      "And the last 100:\n",
      "\n",
      "['varied' 'various' 'vas' 'vascular' 'vegetable' 'vehicle' 'vein'\n",
      " 'velocity' 'venous' 'ventilation' 'ventricular' 'verbal' 'version'\n",
      " 'versus' 'vertebral' 'vessel' 'veterans' 'via' 'video' 'view' 'viral'\n",
      " 'virologic' 'virtual' 'virus' 'vision' 'visit' 'visits' 'visual' 'vital'\n",
      " 'vitamin' 'vitro' 'vivo' 'voice' 'volume' 'volumes' 'volunteers'\n",
      " 'vomiting' 'vs' 'waist' 'waiting' 'walk' 'walking' 'wall' 'warfarin'\n",
      " 'warranted' 'washout' 'water' 'wave' 'way' 'we' 'website' 'week' 'weekly'\n",
      " 'weeks' 'weight' 'well' 'western' 'when' 'whereas' 'whether' 'while'\n",
      " 'white' 'who' 'whole' 'whose' 'wide' 'widely' 'width' 'wilcoxon' 'with'\n",
      " 'withdrawal' 'within' 'without' 'wk' 'women' 'work' 'workers' 'working'\n",
      " 'world' 'worldwide' 'worse' 'worsening' 'would' 'wound' 'wrist' 'written'\n",
      " 'x' 'year' 'years' 'yet' 'yield' 'yielded' 'yoga' 'young' 'younger'\n",
      " 'youth' 'yr' 'z' 'zealand' 'zinc']\n"
     ]
    }
   ],
   "source": [
    "min_word_count = 100\n",
    "\n",
    "words, counts = np.unique([word for tokens in tokens_train for word in tokens], return_counts=True)\n",
    "\n",
    "vocab = words[counts > min_word_count]\n",
    "vocab_dict = {word:idx for idx, word in enumerate(vocab)}\n",
    "\n",
    "print('Obtained %i vocabulary words. Here are the first 100:\\n' % len(vocab))\n",
    "print(vocab[:100])\n",
    "print('\\nAnd the last 100:\\n')\n",
    "print(vocab[-100:])"
   ]
  },
  {
   "cell_type": "code",
   "execution_count": 23,
   "metadata": {},
   "outputs": [],
   "source": [
    "def word_counts(tokens_list, vocab_dict):   \n",
    "    vocab_words = vocab_dict.keys()\n",
    "    counts = np.zeros((len(tokens_list), len(vocab_words)))\n",
    "    for idx, tokens in enumerate(tokens_list):\n",
    "        for token in tokens:\n",
    "            if token in vocab_words:\n",
    "                counts[idx, vocab_dict[token]] += 1\n",
    "    return counts\n",
    "\n",
    "counts_train = word_counts(tokens_train, vocab_dict)\n",
    "counts_val = word_counts(tokens_val, vocab_dict)\n",
    "counts_test = word_counts(tokens_test, vocab_dict)"
   ]
  },
  {
   "cell_type": "code",
   "execution_count": 25,
   "metadata": {},
   "outputs": [],
   "source": [
    "def term_freq(counts):\n",
    "    row_totals = np.sum(counts, axis=1) + 1\n",
    "    assert np.amin(row_totals) > 0\n",
    "    return counts / row_totals[:, np.newaxis]\n",
    "\n",
    "def document_freq(counts):\n",
    "    col_totals = np.sum((counts > 0).astype('int'), axis=0) + 1\n",
    "    assert np.amin(col_totals) > 0\n",
    "    return col_totals[np.newaxis, :] / (len(counts) + 1)\n",
    "\n",
    "x_train = term_freq(counts_train) / document_freq(counts_train)\n",
    "x_val = term_freq(counts_val) / document_freq(counts_train)\n",
    "x_test = term_freq(counts_test) / document_freq(counts_train)"
   ]
  },
  {
   "cell_type": "code",
   "execution_count": 26,
   "metadata": {},
   "outputs": [],
   "source": [
    "label_dict = {'OBJECTIVE': 0, 'BACKGROUND': 1, 'METHODS': 2, 'RESULTS': 5, 'CONCLUSIONS': 4}\n",
    "\n",
    "def labels_to_indices(labels):\n",
    "    return np.array([label_dict[l] for l in labels])\n",
    "\n",
    "y_train = labels_to_indices(l_train)\n",
    "y_val = labels_to_indices(l_val)\n",
    "y_test = labels_to_indices(l_test)"
   ]
  },
  {
   "cell_type": "code",
   "execution_count": 27,
   "metadata": {},
   "outputs": [
    {
     "data": {
      "text/plain": [
       "METHODS        0.329803\n",
       "RESULTS        0.325731\n",
       "CONCLUSIONS    0.151662\n",
       "BACKGROUND     0.114160\n",
       "OBJECTIVE      0.078644\n",
       "dtype: float64"
      ]
     },
     "execution_count": 27,
     "metadata": {},
     "output_type": "execute_result"
    }
   ],
   "source": [
    "pd.value_counts(l_val, normalize=True)"
   ]
  },
  {
   "cell_type": "code",
   "execution_count": 28,
   "metadata": {},
   "outputs": [
    {
     "name": "stdout",
     "output_type": "stream",
     "text": [
      "0.7724414140076791\n"
     ]
    }
   ],
   "source": [
    "from sklearn.linear_model import LogisticRegression\n",
    "\n",
    "lrc = LogisticRegression()\n",
    "lrc.fit(x_train, y_train)\n",
    "predictions = lrc.predict(x_val)\n",
    "accuracy = sum(predictions == y_val) / len(predictions)\n",
    "\n",
    "print(accuracy)"
   ]
  },
  {
   "cell_type": "code",
   "execution_count": 31,
   "metadata": {},
   "outputs": [
    {
     "data": {
      "image/png": "[encoded data removed]",
      "text/plain": [
       "<matplotlib.figure.Figure at 0x1a27405ba8>"
      ]
     },
     "metadata": {
      "needs_background": "light"
     },
     "output_type": "display_data"
    }
   ],
   "source": [
    "from sklearn.metrics import confusion_matrix\n",
    "import matplotlib.pyplot as plt\n",
    "\n",
    "def plot_confusion_matrix(predicted_labels, true_labels, normalize=True):\n",
    "    cm = confusion_matrix(true_labels, predicted_labels)\n",
    "    if normalize == True:\n",
    "        cm = cm / np.sum(cm, axis=1)\n",
    "    fig, ax = plt.subplots(figsize=(12, 12))\n",
    "    im = ax.matshow(cm, cmap='Blues')\n",
    "    fig.colorbar(im, ax=ax)\n",
    "    ax.set_title('Predicted Label', fontsize=20)\n",
    "    ax.set_xticks(np.arange(5))\n",
    "    ax.set_xticklabels(label_dict.keys(), fontsize=12)\n",
    "    ax.set_yticks(np.arange(5))\n",
    "    ax.set_yticklabels(label_dict.keys(), fontsize=12)\n",
    "    ax.set_ylabel('True Label', fontsize=20)\n",
    "    plt.show()\n",
    "    \n",
    "plot_confusion_matrix(predictions, y_val)"
   ]
  },
  {
   "cell_type": "code",
   "execution_count": null,
   "metadata": {},
   "outputs": [],
   "source": [
    "from sklearn.neural_network import MLPClassifier\n",
    "\n",
    "mlp = MLPClassifier(hidden_layer_sizes=(300,), early_stopping=True)\n",
    "mlp.fit(x_train, y_train)\n",
    "predictions = mlp.predict(x_val)\n",
    "accuracy = sum(predictions == y_val) / len(predictions)\n",
    "\n",
    "print(accuracy)"
   ]
  },
  {
   "cell_type": "code",
   "execution_count": 50,
   "metadata": {},
   "outputs": [
    {
     "name": "stdout",
     "output_type": "stream",
     "text": [
      "Loading Glove Model\n",
      "Done. 400000  words loaded!\n"
     ]
    }
   ],
   "source": [
    "glove_file = '../data/glove/glove.6B.300d.txt'\n",
    "glove_url = ''\n",
    "\n",
    "def loadGloveModel(gloveFile):\n",
    "    print(\"Loading Glove Model\")\n",
    "    f = open(gloveFile,'r')\n",
    "    model = {}\n",
    "    for line in f:\n",
    "        splitLine = line.split()\n",
    "        word = splitLine[0]\n",
    "        embedding = np.array([float(val) for val in splitLine[1:]])\n",
    "        model[word] = embedding / np.linalg.norm(embedding, ord=2)\n",
    "    print(\"Done.\",len(model),\" words loaded!\")\n",
    "    return model\n",
    "\n",
    "glove_dict = loadGloveModel(glove_file)"
   ]
  },
  {
   "cell_type": "code",
   "execution_count": 52,
   "metadata": {
    "scrolled": false
   },
   "outputs": [
    {
     "data": {
      "text/plain": [
       "True"
      ]
     },
     "execution_count": 52,
     "metadata": {},
     "output_type": "execute_result"
    }
   ],
   "source": [
    "'myocardium' in glove_dict.keys()"
   ]
  },
  {
   "cell_type": "code",
   "execution_count": 55,
   "metadata": {
    "scrolled": true
   },
   "outputs": [],
   "source": [
    "glove_vocab = glove_dict.keys()\n",
    "\n",
    "def swem(t_list):\n",
    "    arr = []\n",
    "    for t in t_list:\n",
    "        if t in glove_vocab:\n",
    "            arr.append(glove_dict[t])\n",
    "    if len(arr) == 0:\n",
    "        return np.zeros(600)\n",
    "    elif len(arr) == 1:\n",
    "        return np.concatenate(arr + arr)\n",
    "    else:\n",
    "        arr = np.stack(arr)\n",
    "        swem_max = np.amax(arr, axis=0)\n",
    "        swem_avg = np.mean(arr, axis=0)\n",
    "        return np.concatenate([swem_max, swem_avg])\n",
    "\n",
    "x_train_swem = np.stack([swem(tokens) for tokens in tokens_train])\n",
    "x_val_swem = np.stack([swem(tokens) for tokens in tokens_val])\n",
    "x_test_swem = np.stack([swem(tokens) for tokens in tokens_test])"
   ]
  },
  {
   "cell_type": "code",
   "execution_count": 56,
   "metadata": {},
   "outputs": [
    {
     "data": {
      "text/plain": [
       "((180040, 600), (30212, 600), (30135, 600))"
      ]
     },
     "execution_count": 56,
     "metadata": {},
     "output_type": "execute_result"
    }
   ],
   "source": [
    "np.shape(x_train_swem), np.shape(x_val_swem), np.shape(x_test_swem)"
   ]
  },
  {
   "cell_type": "code",
   "execution_count": 57,
   "metadata": {},
   "outputs": [
    {
     "name": "stdout",
     "output_type": "stream",
     "text": [
      "0.7075996292863763\n"
     ]
    }
   ],
   "source": [
    "from sklearn.linear_model import LogisticRegression\n",
    "\n",
    "lrc = LogisticRegression()\n",
    "lrc.fit(x_train_swem, y_train)\n",
    "predictions = lrc.predict(x_val_swem)\n",
    "accuracy = sum(predictions == y_val) / len(predictions)\n",
    "\n",
    "print(accuracy)"
   ]
  },
  {
   "cell_type": "code",
   "execution_count": 58,
   "metadata": {},
   "outputs": [
    {
     "data": {
      "image/png": "[encoded data removed]",
      "text/plain": [
       "<matplotlib.figure.Figure at 0x1a4cfcfa90>"
      ]
     },
     "metadata": {
      "needs_background": "light"
     },
     "output_type": "display_data"
    }
   ],
   "source": [
    "plot_confusion_matrix(predictions, y_val)"
   ]
  },
  {
   "cell_type": "code",
   "execution_count": 60,
   "metadata": {},
   "outputs": [
    {
     "name": "stdout",
     "output_type": "stream",
     "text": [
      "0.7643320534886799\n"
     ]
    }
   ],
   "source": [
    "from sklearn.neural_network import MLPClassifier\n",
    "\n",
    "mlp = MLPClassifier(hidden_layer_sizes=(300,), early_stopping=True)\n",
    "mlp.fit(x_train_swem, y_train)\n",
    "predictions = mlp.predict(x_val_swem)\n",
    "accuracy = sum(predictions == y_val) / len(predictions)\n",
    "\n",
    "print(accuracy)"
   ]
  },
  {
   "cell_type": "code",
   "execution_count": null,
   "metadata": {},
   "outputs": [],
   "source": []
  }
 ],
 "metadata": {
  "kernelspec": {
   "display_name": "Python 3",
   "language": "python",
   "name": "python3"
  },
  "language_info": {
   "codemirror_mode": {
    "name": "ipython",
    "version": 3
   },
   "file_extension": ".py",
   "mimetype": "text/x-python",
   "name": "python",
   "nbconvert_exporter": "python",
   "pygments_lexer": "ipython3",
   "version": "3.6.6"
  }
 },
 "nbformat": 4,
 "nbformat_minor": 2
}
