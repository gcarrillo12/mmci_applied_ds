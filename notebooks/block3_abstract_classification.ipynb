{
 "cells": [
  {
   "cell_type": "markdown",
   "metadata": {},
   "source": [
    "# Computational Exercise 3: Classifying Medical Abstract Sections with Simple NLP Models\n",
    "\n",
    "*Applied Data Science; July 10, 2019*\n",
    "\n",
    "**Please note that there are optional coding exercises, but coding is not required.**\n",
    "\n",
    "**Due:** *Friday, July 24 at 11:59pm*\n",
    "\n",
    "---\n",
    "In this exercise, we'll classify sentences belonging to different sections of medical abstracts (e.g. background, methods, etc) using two different approaches:\n",
    "\n",
    "1. A bag of words classifier\n",
    "2. A very simple model word embedding-based model\n",
    "\n",
    "Goals of the exercise are as follows:\n",
    "\n",
    "- See how raw text data is pre-processed to prepare it for modeling\n",
    "- Explore count-based text features\n",
    "- Explore word embeddings\n",
    "- Determine which approach is more effective for this classification problem\n",
    "- Understand the limitations of each approach\n",
    "\n",
    "We'll begin by importing the usual libraries as well as a new one, the **natural language toolkit (nltk)**, which will help us preprocess our text data:\n",
    "\n",
    "- numpy for efficient math operations\n",
    "- pandas for data and dataframe manipulations\n",
    "- matplotlib for visualization/plotting\n",
    "- **nltk for text pre-processing**\n",
    "- requests to load data from url\n",
    "- sklearn for training logistic regression and MLP models"
   ]
  },
  {
   "cell_type": "code",
   "execution_count": 1,
   "metadata": {},
   "outputs": [
    {
     "name": "stderr",
     "output_type": "stream",
     "text": [
      "[nltk_data] Downloading package punkt to /Users/mme/nltk_data...\n",
      "[nltk_data]   Unzipping tokenizers/punkt.zip.\n",
      "[nltk_data] Downloading package stopwords to /Users/mme/nltk_data...\n",
      "[nltk_data]   Unzipping corpora/stopwords.zip.\n"
     ]
    }
   ],
   "source": [
    "import numpy as np\n",
    "import pandas as pd\n",
    "import matplotlib.pyplot as plt\n",
    "import requests\n",
    "import nltk\n",
    "from nltk.tokenize import word_tokenize\n",
    "from nltk.corpus import stopwords\n",
    "\n",
    "nltk.download('punkt')\n",
    "nltk.download('stopwords')\n",
    "stop_words = set(stopwords.words('english'))"
   ]
  },
  {
   "cell_type": "markdown",
   "metadata": {},
   "source": [
    "We'll be working with the \"PubMed 200k RCT dataset\" dataset developed by Franck Dernoncourt. This dataset contains sentences found in Pubmed abstracts labeled as:\n",
    "\n",
    "- OBJECTIVE\n",
    "- BACKGROUND\n",
    "- METHODS\n",
    "- RESULTS\n",
    "- CONCLUSIONS\n",
    "\n",
    "Our goal is to develop a classifier that assigns sentences to the correct label. This is not a very useful classifier, but shows that natural language processing is effective even for text with complex terminology, including clinical notes. The training, validation, and test data are found at the following addresses:"
   ]
  },
  {
   "cell_type": "code",
   "execution_count": 2,
   "metadata": {},
   "outputs": [],
   "source": [
    "train_url = 'https://github.com/Franck-Dernoncourt/pubmed-rct/raw/master/PubMed_20k_RCT/train.txt?raw=true'\n",
    "val_url = 'https://github.com/Franck-Dernoncourt/pubmed-rct/raw/master/PubMed_20k_RCT/dev.txt?raw=true'\n",
    "test_url = 'https://github.com/Franck-Dernoncourt/pubmed-rct/raw/master/PubMed_20k_RCT/test.txt?raw=true'"
   ]
  },
  {
   "cell_type": "markdown",
   "metadata": {},
   "source": [
    "Let's define a function to read these data. You're not responsible for understanding this function; what's important is that the training sentences and labels are loaded as `s_train` and `l_train`, respectively. Similarly, the validation sentences and labels are loaded as `s_val` and `l_val`, and the test sentences and labels are loaded as `s_test` and `l_test`."
   ]
  },
  {
   "cell_type": "code",
   "execution_count": 3,
   "metadata": {},
   "outputs": [
    {
     "name": "stdout",
     "output_type": "stream",
     "text": [
      "There are 180040 sentences in the training set\n",
      "There are 30212 sentences in the validation set\n",
      "There are 30135 sentences in the test set\n"
     ]
    }
   ],
   "source": [
    "def read_pubmed_rct(url):\n",
    "\n",
    "    labels = []\n",
    "    sentences = []\n",
    "    \n",
    "    with requests.get(url) as r:\n",
    "        for line in r.iter_lines():\n",
    "            fields = line.decode('utf-8').strip().split('\\t')\n",
    "            if len(fields) == 2:\n",
    "                labels.append(fields[0])\n",
    "                sentences.append(fields[1])\n",
    "                \n",
    "    return sentences, labels\n",
    "\n",
    "s_train, l_train = read_pubmed_rct(train_url)\n",
    "s_val, l_val = read_pubmed_rct(val_url)\n",
    "s_test, l_test = read_pubmed_rct(test_url)\n",
    "\n",
    "print('There are %i sentences in the training set' % len(s_train))\n",
    "print('There are %i sentences in the validation set' % len(s_val))\n",
    "print('There are %i sentences in the test set' % len(s_test))"
   ]
  },
  {
   "cell_type": "markdown",
   "metadata": {},
   "source": [
    "Now let's take a look at the labels in the training set:"
   ]
  },
  {
   "cell_type": "code",
   "execution_count": 4,
   "metadata": {},
   "outputs": [
    {
     "data": {
      "image/png": "[encoded data removed]",
      "text/plain": [
       "<Figure size 864x432 with 1 Axes>"
      ]
     },
     "metadata": {
      "needs_background": "light"
     },
     "output_type": "display_data"
    }
   ],
   "source": [
    "labels, counts = np.unique(l_train, return_counts=True)\n",
    "plt.figure(figsize=(12, 6))\n",
    "plt.bar(np.arange(5), counts)\n",
    "plt.xticks(np.arange(5), labels, fontsize=16)\n",
    "plt.ylabel('Label Count', fontsize=16)\n",
    "plt.show()"
   ]
  },
  {
   "cell_type": "markdown",
   "metadata": {},
   "source": [
    "As we move toward a classification model, we'll need to convert all of our labels to numbers that we can give to our classifier. Let's make sure to number them in the order we'd expect:\n",
    "\n",
    "1. BACKGROUND\n",
    "2. OBJECTIVE\n",
    "3. METHODS\n",
    "4. RESULTS\n",
    "5. CONCLUSIONS\n",
    "\n",
    "We'll do this using the dictionary `label_dict`."
   ]
  },
  {
   "cell_type": "code",
   "execution_count": 5,
   "metadata": {},
   "outputs": [],
   "source": [
    "label_dict = {'BACKGROUND': 0, 'OBJECTIVE': 1, 'METHODS': 2, 'RESULTS': 3, 'CONCLUSIONS': 4}\n",
    "\n",
    "def labels_to_indices(labels):\n",
    "    return np.array([label_dict[l] for l in labels])\n",
    "\n",
    "y_train = labels_to_indices(l_train)\n",
    "y_val = labels_to_indices(l_val)\n",
    "y_test = labels_to_indices(l_test)"
   ]
  },
  {
   "cell_type": "markdown",
   "metadata": {},
   "source": [
    "## Pre-Processing\n",
    "\n",
    "Now let's start preparing our sentences for modeling. We'll use a very simple preprocessing pipline that:\n",
    "\n",
    "1. tokenizes the sentence, which primarily involves splitting the sentence based on spaces. Here we're using NLTK's `word_tokenize()` function.\n",
    "1. removes stop words (e.g. 'a', 'the')\n",
    "2. removes tokens with non-alphabetical characters (via `word.isalpha()`)\n",
    "3. converts words to lowercase (via `word.lower()`)\n",
    "\n",
    "We can run the whole pipeline on the sentence `test_sentence` by calling `tokenize(test_sentence)`. Take a moment to explore different test sentences and check the result!"
   ]
  },
  {
   "cell_type": "code",
   "execution_count": 6,
   "metadata": {},
   "outputs": [
    {
     "name": "stdout",
     "output_type": "stream",
     "text": [
      "Sentence:\n",
      "Here's a sentence we'd like to tokenize.\n",
      "\n",
      "Tokenized Sentence:\n",
      "['here', 'sentence', 'like', 'tokenize']\n"
     ]
    }
   ],
   "source": [
    "def tokenize(sentence):\n",
    "    return [w.lower() for w in word_tokenize(sentence) if ((not w in stop_words) and w.isalpha())]\n",
    "\n",
    "test_sentence = 'Here\\'s a sentence we\\'d like to tokenize.'\n",
    "\n",
    "print('Sentence:')\n",
    "print(test_sentence)\n",
    "print('\\nTokenized Sentence:')\n",
    "print(tokenize(test_sentence))"
   ]
  },
  {
   "cell_type": "markdown",
   "metadata": {},
   "source": [
    "Note that *a*, *we'd*, and *to* have been removed. This is because they're not very useful for the purpose of classifying the text. If we're satisfied our preprocessing is working as intended, we can apply it to all of the sentences in our training, validation, and test sets. This might take a few moments."
   ]
  },
  {
   "cell_type": "code",
   "execution_count": 7,
   "metadata": {},
   "outputs": [],
   "source": [
    "tokens_train = [tokenize(s) for s in s_train]\n",
    "tokens_val = [tokenize(s) for s in s_val]\n",
    "tokens_test = [tokenize(s) for s in s_test]"
   ]
  },
  {
   "cell_type": "markdown",
   "metadata": {},
   "source": [
    "Now, let's define our vocabulary (as `vocab`) based on the words we encounter in our training set. Currently, we're only including words in our vocabulary if we see them at least 100 times (specified via `min_word_count = 100`). Let's leave it this way for now, but you may want to revisit this choice later in the exercise."
   ]
  },
  {
   "cell_type": "code",
   "execution_count": 8,
   "metadata": {},
   "outputs": [
    {
     "name": "stdout",
     "output_type": "stream",
     "text": [
      "Obtained 3000 vocabulary words. Here are the first 50:\n",
      "\n",
      "['a' 'aa' 'abdominal' 'ability' 'ablation' 'able' 'abnormal'\n",
      " 'abnormalities' 'absence' 'absolute' 'absorption' 'abstinence' 'abuse'\n",
      " 'academic' 'acceptability' 'acceptable' 'acceptance' 'accepted' 'access'\n",
      " 'accompanied' 'according' 'account' 'accuracy' 'accurate' 'acetaminophen'\n",
      " 'acetate' 'achieve' 'achieved' 'achievement' 'achieving' 'acid' 'acids'\n",
      " 'acl' 'acquired' 'acquisition' 'across' 'acs' 'act' 'action' 'activation'\n",
      " 'active' 'activities' 'activity' 'actual' 'acuity' 'acupoint' 'acupoints'\n",
      " 'acupuncture' 'acute' 'ad']\n",
      "\n",
      "And here are the last 50:\n",
      "\n",
      "['website' 'week' 'weekly' 'weeks' 'weight' 'well' 'western' 'when'\n",
      " 'whereas' 'whether' 'while' 'white' 'who' 'whole' 'whose' 'wide' 'widely'\n",
      " 'width' 'wilcoxon' 'with' 'withdrawal' 'within' 'without' 'wk' 'women'\n",
      " 'work' 'workers' 'working' 'world' 'worldwide' 'worse' 'worsening'\n",
      " 'would' 'wound' 'wrist' 'written' 'x' 'year' 'years' 'yet' 'yield'\n",
      " 'yielded' 'yoga' 'young' 'younger' 'youth' 'yr' 'z' 'zealand' 'zinc']\n"
     ]
    }
   ],
   "source": [
    "min_word_count = 100\n",
    "\n",
    "words, counts = np.unique([word for tokens in tokens_train for word in tokens], return_counts=True)\n",
    "vocab = words[counts > min_word_count]\n",
    "vocab_dict = {word:idx for idx, word in enumerate(vocab)}\n",
    "\n",
    "print('Obtained %i vocabulary words. Here are the first 50:\\n' % len(vocab))\n",
    "print(vocab[:50])\n",
    "print('\\nAnd here are the last 50:\\n')\n",
    "print(vocab[-50:])"
   ]
  },
  {
   "cell_type": "markdown",
   "metadata": {},
   "source": [
    "Having defined our vocabulary, we can now count vocabulary words in each sentence of our data. Once this is done, we'll be just about ready to build our first model. The `word_counts()` function below will take our training dataset and vocabulary and return an $N \\times V$ matrix of counts, where $N$ is the number of sentences, and $V$ is the size of our vocabulary. When we encounter vocabulary word $j$ in sentence $i$, we increment the $\\{i, j\\}^{th}$ element of the counts matrix by one."
   ]
  },
  {
   "cell_type": "code",
   "execution_count": 9,
   "metadata": {},
   "outputs": [],
   "source": [
    "def word_counts(tokens_list, vocab_dict):   \n",
    "    vocab_words = vocab_dict.keys()\n",
    "    counts = np.zeros((len(tokens_list), len(vocab_words)))\n",
    "    for idx, tokens in enumerate(tokens_list):\n",
    "        for token in tokens:\n",
    "            if token in vocab_words:\n",
    "                counts[idx, vocab_dict[token]] += 1\n",
    "    return counts\n",
    "\n",
    "counts_train = word_counts(tokens_train, vocab_dict).astype(np.float16)\n",
    "counts_val = word_counts(tokens_val, vocab_dict).astype(np.float16)\n",
    "counts_test = word_counts(tokens_test, vocab_dict).astype(np.float16)"
   ]
  },
  {
   "cell_type": "markdown",
   "metadata": {},
   "source": [
    "As a last step before modeling, we'll apply tf-idf. Note that this is implemented just as described in class, except we are 'smoothing' by adding 1s in both the tf and idf steps. This 'smoothing' step is done partly to ensure we're never dividing by zero.\n",
    "\n",
    "It is also important to note, as discussed in class, that we use only the training data when calculating our document frequency values. This is because we want to make sure we're normalizing all three sets (training, validation, and test) by the same document frequency, but we cannot use information outside of the training partition when we normalize it (*why?*).\n",
    "\n",
    "Our data is now ready for modeling: we have `x_train`, `x_val`, and `x_test` along with the corresponding $y$ values."
   ]
  },
  {
   "cell_type": "code",
   "execution_count": 10,
   "metadata": {},
   "outputs": [],
   "source": [
    "def term_freq(counts):\n",
    "    row_totals = np.sum(counts, axis=1) + 1\n",
    "    assert np.amin(row_totals) > 0\n",
    "    return counts / row_totals[:, np.newaxis]\n",
    "\n",
    "def document_freq(counts):\n",
    "    col_totals = np.sum((counts > 0).astype('int'), axis=0) + 1\n",
    "    assert np.amin(col_totals) > 0\n",
    "    return col_totals[np.newaxis, :] / (len(counts) + 1)\n",
    "\n",
    "df = document_freq(counts_train)\n",
    "\n",
    "x_train = term_freq(counts_train) / df\n",
    "x_val = term_freq(counts_val) / df\n",
    "x_test = term_freq(counts_test) / df"
   ]
  },
  {
   "cell_type": "markdown",
   "metadata": {},
   "source": [
    "## Bag of Words Model\n",
    "\n",
    "We're finally ready to train our model! We'll use the simplest model we can: multi-class logistic regression. Let's see how well it does:"
   ]
  },
  {
   "cell_type": "code",
   "execution_count": 41,
   "metadata": {},
   "outputs": [
    {
     "name": "stderr",
     "output_type": "stream",
     "text": [
      "/opt/anaconda3/lib/python3.7/site-packages/sklearn/linear_model/logistic.py:947: ConvergenceWarning: lbfgs failed to converge. Increase the number of iterations.\n",
      "  \"of iterations.\", ConvergenceWarning)\n"
     ]
    },
    {
     "name": "stdout",
     "output_type": "stream",
     "text": [
      "The accuracy is 77.2%\n"
     ]
    }
   ],
   "source": [
    "from sklearn.linear_model import LogisticRegression\n",
    "\n",
    "lrc = LogisticRegression(solver='lbfgs', multi_class='multinomial')\n",
    "lrc.fit(x_train, y_train)\n",
    "predictions = lrc.predict(x_val)\n",
    "accuracy = sum(predictions == y_val) / len(predictions)\n",
    "\n",
    "print('The accuracy is %.1f%%' % (100 * accuracy))"
   ]
  },
  {
   "cell_type": "markdown",
   "metadata": {},
   "source": [
    "Great! It's working pretty well. Let's take a closer look by plotting the confusion matrix using a function we'll define, `plot_confusion_matrix()`. No need to worry about the details of this function."
   ]
  },
  {
   "cell_type": "code",
   "execution_count": 27,
   "metadata": {},
   "outputs": [
    {
     "data": {
      "image/png": "[encoded data removed]",
      "text/plain": [
       "<Figure size 864x864 with 2 Axes>"
      ]
     },
     "metadata": {
      "needs_background": "light"
     },
     "output_type": "display_data"
    }
   ],
   "source": [
    "from sklearn.metrics import confusion_matrix\n",
    "\n",
    "def plot_confusion_matrix(predicted_labels, true_labels, normalize=True):\n",
    "    cm = confusion_matrix(true_labels, predicted_labels)\n",
    "    if normalize == True:\n",
    "        cm = cm / np.sum(cm, axis=1)\n",
    "    fig, ax = plt.subplots(figsize=(12, 12))\n",
    "    im = ax.matshow(cm, cmap='Blues')\n",
    "    fig.colorbar(im, ax=ax)\n",
    "    ax.set_title('Predicted Label', fontsize=20)\n",
    "    ax.set_xticklabels([None] + list(label_dict.keys()), fontsize=12)\n",
    "    ax.set_yticklabels([None] + list(label_dict.keys()), fontsize=12)\n",
    "    ax.set_ylabel('True Label', fontsize=20)\n",
    "    plt.show()\n",
    "    \n",
    "plot_confusion_matrix(predictions, y_val)"
   ]
  },
  {
   "cell_type": "markdown",
   "metadata": {},
   "source": [
    "It looks like the model does best with the methods and the results. Why might this be the case? It sometimes confuses CONCLUSIONS with BACKGROUND, as well as OBJECTIVE with BACKGROUND. Note that these results are row-normalized, meaning we are looking at the proportion of each true label that are correctly versus incorrectly classified.\n",
    "\n",
    "Continuing with our exploration, let's take a look at the logistic regression coefficients, which we'll access as `lr_params`. Note that the $n^{th}$ row of `lr_params` contains the parameter values corresponding to class $i$ for each of our vocabulary words. Knowing this, we can see which vocabulary words have largest coefficients for each class. Here we're looking at the top 10, but you can look at more or fewer words by changing the value of `k`."
   ]
  },
  {
   "cell_type": "code",
   "execution_count": 28,
   "metadata": {},
   "outputs": [
    {
     "name": "stdout",
     "output_type": "stream",
     "text": [
      "The top 10 items for each label, as ranked by their logistic regression coefficients, are:\n"
     ]
    },
    {
     "data": {
      "text/html": [
       "<div>\n",
       "<style scoped>\n",
       "    .dataframe tbody tr th:only-of-type {\n",
       "        vertical-align: middle;\n",
       "    }\n",
       "\n",
       "    .dataframe tbody tr th {\n",
       "        vertical-align: top;\n",
       "    }\n",
       "\n",
       "    .dataframe thead th {\n",
       "        text-align: right;\n",
       "    }\n",
       "</style>\n",
       "<table border=\"1\" class=\"dataframe\">\n",
       "  <thead>\n",
       "    <tr style=\"text-align: right;\">\n",
       "      <th></th>\n",
       "      <th>BACKGROUND</th>\n",
       "      <th>OBJECTIVE</th>\n",
       "      <th>METHODS</th>\n",
       "      <th>RESULTS</th>\n",
       "      <th>CONCLUSIONS</th>\n",
       "    </tr>\n",
       "  </thead>\n",
       "  <tbody>\n",
       "    <tr>\n",
       "      <td>0</td>\n",
       "      <td>aim</td>\n",
       "      <td>to</td>\n",
       "      <td>randomized</td>\n",
       "      <td>p</td>\n",
       "      <td>patients</td>\n",
       "    </tr>\n",
       "    <tr>\n",
       "      <td>1</td>\n",
       "      <td>studies</td>\n",
       "      <td>patients</td>\n",
       "      <td>randomly</td>\n",
       "      <td>patients</td>\n",
       "      <td>the</td>\n",
       "    </tr>\n",
       "    <tr>\n",
       "      <td>2</td>\n",
       "      <td>aimed</td>\n",
       "      <td>study</td>\n",
       "      <td>primary</td>\n",
       "      <td>group</td>\n",
       "      <td>study</td>\n",
       "    </tr>\n",
       "    <tr>\n",
       "      <td>3</td>\n",
       "      <td>whether</td>\n",
       "      <td>the</td>\n",
       "      <td>the</td>\n",
       "      <td>significantly</td>\n",
       "      <td>trial</td>\n",
       "    </tr>\n",
       "    <tr>\n",
       "      <td>4</td>\n",
       "      <td>however</td>\n",
       "      <td>treatment</td>\n",
       "      <td>groups</td>\n",
       "      <td>ci</td>\n",
       "      <td>treatment</td>\n",
       "    </tr>\n",
       "    <tr>\n",
       "      <td>5</td>\n",
       "      <td>cancer</td>\n",
       "      <td>compared</td>\n",
       "      <td>assessed</td>\n",
       "      <td>significant</td>\n",
       "      <td>clinical</td>\n",
       "    </tr>\n",
       "    <tr>\n",
       "      <td>6</td>\n",
       "      <td>shown</td>\n",
       "      <td>this</td>\n",
       "      <td>study</td>\n",
       "      <td>the</td>\n",
       "      <td>this</td>\n",
       "    </tr>\n",
       "    <tr>\n",
       "      <td>7</td>\n",
       "      <td>trials</td>\n",
       "      <td>we</td>\n",
       "      <td>using</td>\n",
       "      <td>respectively</td>\n",
       "      <td>effect</td>\n",
       "    </tr>\n",
       "    <tr>\n",
       "      <td>8</td>\n",
       "      <td>disease</td>\n",
       "      <td>clinical</td>\n",
       "      <td>weeks</td>\n",
       "      <td>groups</td>\n",
       "      <td>effective</td>\n",
       "    </tr>\n",
       "    <tr>\n",
       "      <td>9</td>\n",
       "      <td>objective</td>\n",
       "      <td>trial</td>\n",
       "      <td>used</td>\n",
       "      <td>mean</td>\n",
       "      <td>may</td>\n",
       "    </tr>\n",
       "  </tbody>\n",
       "</table>\n",
       "</div>"
      ],
      "text/plain": [
       "  BACKGROUND  OBJECTIVE     METHODS        RESULTS CONCLUSIONS\n",
       "0        aim         to  randomized              p    patients\n",
       "1    studies   patients    randomly       patients         the\n",
       "2      aimed      study     primary          group       study\n",
       "3    whether        the         the  significantly       trial\n",
       "4    however  treatment      groups             ci   treatment\n",
       "5     cancer   compared    assessed    significant    clinical\n",
       "6      shown       this       study            the        this\n",
       "7     trials         we       using   respectively      effect\n",
       "8    disease   clinical       weeks         groups   effective\n",
       "9  objective      trial        used           mean         may"
      ]
     },
     "execution_count": 28,
     "metadata": {},
     "output_type": "execute_result"
    }
   ],
   "source": [
    "lr_params = lrc.coef_\n",
    "inverse_vocab_dict = {i: w for w, i in vocab_dict.items()}\n",
    "\n",
    "def topk_words(arr, k):\n",
    "    indices = np.argsort(arr)[::-1][:k]\n",
    "    return [inverse_vocab_dict[idx] for idx in indices]\n",
    "\n",
    "k = 10\n",
    "\n",
    "topk_items_dict = {lbl: topk_words(lr_params[i, :], k) for lbl, i in label_dict.items()}\n",
    "\n",
    "print('The top %i items for each label, as ranked by their logistic regression coefficients, are:' % k)\n",
    "pd.DataFrame(topk_items_dict)[list(label_dict.keys())]"
   ]
  },
  {
   "cell_type": "markdown",
   "metadata": {},
   "source": [
    "### Question 1: Logistic Regression Coefficients\n",
    "\n",
    "In one paragraph, please comment on the table above, touching on at least one of the following points:\n",
    "\n",
    "- the significance of these words to the model's predictions\n",
    "- words present on these lists that match -- or don't match -- your expectations\n",
    "- words absent from these lists that you expected to see"
   ]
  },
  {
   "cell_type": "markdown",
   "metadata": {},
   "source": [
    "### Question 2: Improving the Model\n",
    "\n",
    "In one paragraph, please suggest two modifications to the model and/or our pre-processing that you hypothesize will improve the results, and describe why you believe these modifications may help. We'll be using word vectors later in the exercise, so your response here should focus on other possible modifications.\n",
    "\n",
    "**Optionally**, you can test your hypotheses in the code block below."
   ]
  },
  {
   "cell_type": "code",
   "execution_count": 30,
   "metadata": {},
   "outputs": [],
   "source": [
    "### YOUR CODE BELOW ###\n",
    "\n",
    "\n",
    "### YOUR CODE ABOVE ###"
   ]
  },
  {
   "cell_type": "markdown",
   "metadata": {},
   "source": [
    "## Word Embeddings\n",
    "\n",
    "Now we'll tackle the same problems using word vectors/embeddings. Specifically, we'll work toward the very simple word embedding-based model we discussed in class. Let's start by loading 300-dimensional embeddings from the Stanford NLP group (i.e. GloVe). No need to worry about how we're loading the file, but it's important to note that we can look up the vector for `'word'` by writing `glove_dict['word']`."
   ]
  },
  {
   "cell_type": "code",
   "execution_count": 31,
   "metadata": {},
   "outputs": [],
   "source": [
    "import requests\n",
    "import shutil\n",
    "\n",
    "response = requests.get(\n",
    "    'https://github.com/mengelhard/mmci_applied_ds/raw/master/data/glove/ce3_glove.npy',\n",
    "    stream=True)\n",
    "\n",
    "with open('glove.npy', 'wb') as fin:\n",
    "    shutil.copyfileobj(response.raw, fin)\n",
    "\n",
    "glove_dict = np.load('glove.npy', allow_pickle=True).item()"
   ]
  },
  {
   "cell_type": "markdown",
   "metadata": {},
   "source": [
    "How rich is the vocabulary we get from our word vectors? Let's look for some medical jargon -- feel free to try a few of your own terms! Note that this dictionary only contains words found in **both** our dataset and in GloVe, so you won't find legal terminology, for instance."
   ]
  },
  {
   "cell_type": "code",
   "execution_count": 32,
   "metadata": {
    "scrolled": false
   },
   "outputs": [
    {
     "name": "stdout",
     "output_type": "stream",
     "text": [
      "Is the word 'myocardium' in our dictionary?\n",
      "True\n",
      "Is the word 'peristalsis' in our dictionary?\n",
      "True\n",
      "Is the word 'aneurysm' in our dictionary?\n",
      "True\n"
     ]
    }
   ],
   "source": [
    "print('Is the word \\'myocardium\\' in our dictionary?')\n",
    "print('myocardium' in glove_dict.keys())\n",
    "print('Is the word \\'peristalsis\\' in our dictionary?')\n",
    "print('peristalsis' in glove_dict.keys())\n",
    "print('Is the word \\'aneurysm\\' in our dictionary?')\n",
    "print('aneurysm' in glove_dict.keys())"
   ]
  },
  {
   "cell_type": "markdown",
   "metadata": {},
   "source": [
    "Using our word vectors, we can evaluate the similarity between pairs of words in our dictionary by taking the inner product (also called the *dot product* or *cosine similarity*), which gives us the cosine of the angle between the two word vectors (since these vectors have been unit-normalized).\n",
    "\n",
    "- When the angle $\\theta$ is close to zero, $\\cos(\\theta)$ will be close to 1.\n",
    "- As $\\theta$ gets larger, $\\cos(\\theta)$ gets smaller (and, in some cases, negative).\n",
    "\n",
    "The function `word_similarity()` calculates the similarity between pairs of words that you specify. Let's look at a few examples:"
   ]
  },
  {
   "cell_type": "code",
   "execution_count": 33,
   "metadata": {},
   "outputs": [
    {
     "name": "stdout",
     "output_type": "stream",
     "text": [
      "The similarity between *humans* and *animals* is 0.692\n",
      "The similarity between *plants* and *animals* is 0.424\n",
      "The similarity between *plants* and *fungi* is 0.361\n",
      "The similarity between *bacteria* and *fungi* is 0.611\n"
     ]
    }
   ],
   "source": [
    "def word_similarity(word1, word2):\n",
    "    if not word1 in glove_dict.keys():\n",
    "        print('Word 1 not found')\n",
    "    elif not word2 in glove_dict.keys():\n",
    "        print('Word 2 not found')\n",
    "    else:\n",
    "        return np.sum(glove_dict[word1] * glove_dict[word2])\n",
    "\n",
    "print('The similarity between *humans* and *animals* is %.3f' % word_similarity('humans', 'animals'))\n",
    "print('The similarity between *plants* and *animals* is %.3f' % word_similarity('plants', 'animals'))\n",
    "print('The similarity between *plants* and *fungi* is %.3f' % word_similarity('plants', 'fungi'))\n",
    "print('The similarity between *bacteria* and *fungi* is %.3f' % word_similarity('bacteria', 'fungi'))"
   ]
  },
  {
   "cell_type": "markdown",
   "metadata": {},
   "source": [
    "Now let's try some clinical terms. Feel free to try more..."
   ]
  },
  {
   "cell_type": "code",
   "execution_count": 108,
   "metadata": {},
   "outputs": [
    {
     "name": "stdout",
     "output_type": "stream",
     "text": [
      "The similarity between *myocardial* and *infarction* is 0.900\n",
      "The similarity between *myocardial* and *ischemia* is 0.665\n",
      "The similarity between *infarction* and *ischemia* is 0.639\n",
      "The similarity between *ischemia* and *hypoxia* is 0.560\n",
      "The similarity between *hypoxia* and *oxygen* is 0.461\n",
      "The similarity between *infarction* and *oxygen* is 0.192\n"
     ]
    }
   ],
   "source": [
    "print('The similarity between *myocardial* and *infarction* is %.3f' % word_similarity('myocardial', 'infarction'))\n",
    "print('The similarity between *myocardial* and *ischemia* is %.3f' % word_similarity('myocardial', 'ischemia'))\n",
    "print('The similarity between *infarction* and *ischemia* is %.3f' % word_similarity('infarction', 'ischemia'))\n",
    "print('The similarity between *ischemia* and *hypoxia* is %.3f' % word_similarity('ischemia', 'hypoxia'))\n",
    "print('The similarity between *hypoxia* and *oxygen* is %.3f' % word_similarity('hypoxia', 'oxygen'))\n",
    "print('The similarity between *infarction* and *oxygen* is %.3f' % word_similarity('infarction', 'oxygen'))"
   ]
  },
  {
   "cell_type": "markdown",
   "metadata": {},
   "source": [
    "## A Very Simple Word Embedding-Based Model\n",
    "\n",
    "We'll now apply the simple model discussed in class and see how it compares to our previous approach. We will apply the `swem()` function to each sentence in our dataset. This function will map each word in the sentence to its GloVe vector (if one is found), stack all the sentences together, and take the `max()` and `average()` over all words. These are then concatenated, resulting in a 600-dimensional feature vector for each sentence. This may take a minute or two."
   ]
  },
  {
   "cell_type": "code",
   "execution_count": 34,
   "metadata": {
    "scrolled": true
   },
   "outputs": [],
   "source": [
    "glove_vocab = glove_dict.keys()\n",
    "\n",
    "def swem(t_list):\n",
    "    arr = []\n",
    "    for t in t_list:\n",
    "        if t in glove_vocab:\n",
    "            arr.append(glove_dict[t])\n",
    "    if len(arr) == 0:\n",
    "        return np.zeros(600)\n",
    "    elif len(arr) == 1:\n",
    "        return np.concatenate(arr + arr)\n",
    "    else:\n",
    "        arr = np.stack(arr)\n",
    "        swem_max = np.amax(arr, axis=0)\n",
    "        swem_avg = np.mean(arr, axis=0)\n",
    "        return np.concatenate([swem_max, swem_avg])\n",
    "\n",
    "x_train_swem = np.stack([swem(tokens) for tokens in tokens_train])\n",
    "x_val_swem = np.stack([swem(tokens) for tokens in tokens_val])\n",
    "x_test_swem = np.stack([swem(tokens) for tokens in tokens_test])"
   ]
  },
  {
   "cell_type": "markdown",
   "metadata": {},
   "source": [
    "Let's quickly verify that the result came out as expected:"
   ]
  },
  {
   "cell_type": "code",
   "execution_count": 35,
   "metadata": {},
   "outputs": [
    {
     "data": {
      "text/plain": [
       "((180040, 600), (30212, 600), (30135, 600))"
      ]
     },
     "execution_count": 35,
     "metadata": {},
     "output_type": "execute_result"
    }
   ],
   "source": [
    "np.shape(x_train_swem), np.shape(x_val_swem), np.shape(x_test_swem)"
   ]
  },
  {
   "cell_type": "markdown",
   "metadata": {},
   "source": [
    "Now we can apply logistic regression to our new, SWEM-based feature vector!"
   ]
  },
  {
   "cell_type": "code",
   "execution_count": 38,
   "metadata": {},
   "outputs": [
    {
     "name": "stderr",
     "output_type": "stream",
     "text": [
      "/opt/anaconda3/lib/python3.7/site-packages/sklearn/linear_model/logistic.py:947: ConvergenceWarning: lbfgs failed to converge. Increase the number of iterations.\n",
      "  \"of iterations.\", ConvergenceWarning)\n"
     ]
    },
    {
     "name": "stdout",
     "output_type": "stream",
     "text": [
      "The accuracy is 70.0%\n"
     ]
    },
    {
     "data": {
      "image/png": "[encoded data removed]",
      "text/plain": [
       "<Figure size 864x864 with 2 Axes>"
      ]
     },
     "metadata": {
      "needs_background": "light"
     },
     "output_type": "display_data"
    }
   ],
   "source": [
    "from sklearn.linear_model import LogisticRegression\n",
    "\n",
    "lrc = LogisticRegression(solver='lbfgs', multi_class='multinomial')\n",
    "lrc.fit(x_train_swem, y_train)\n",
    "predictions = lrc.predict(x_val_swem)\n",
    "accuracy = sum(predictions == y_val) / len(predictions)\n",
    "\n",
    "print('The accuracy is %.1f%%' % (100 * accuracy))\n",
    "plot_confusion_matrix(predictions, y_val)"
   ]
  },
  {
   "cell_type": "markdown",
   "metadata": {},
   "source": [
    "### Question 3: Interpreting SWEM Results\n",
    "\n",
    "It looks like the SWEM model performed well, but not quite as well as our earlier, bag of words approach. In one brief paragraph, please describe at least **two** limitations of SWEM, preferably including one not shared by the bag of words model, that might help explain this difference."
   ]
  },
  {
   "cell_type": "markdown",
   "metadata": {},
   "source": [
    "Can we improve our results using a multilayer perceptron? Let's find out..."
   ]
  },
  {
   "cell_type": "code",
   "execution_count": 40,
   "metadata": {},
   "outputs": [
    {
     "name": "stdout",
     "output_type": "stream",
     "text": [
      "The accuracy is 76.1%\n"
     ]
    },
    {
     "data": {
      "image/png": "[encoded data removed]",
      "text/plain": [
       "<Figure size 864x864 with 2 Axes>"
      ]
     },
     "metadata": {
      "needs_background": "light"
     },
     "output_type": "display_data"
    }
   ],
   "source": [
    "from sklearn.neural_network import MLPClassifier\n",
    "\n",
    "mlp = MLPClassifier(hidden_layer_sizes=(100, 50), early_stopping=True)\n",
    "mlp.fit(x_train_swem, y_train)\n",
    "predictions = mlp.predict(x_val_swem)\n",
    "accuracy = sum(predictions == y_val) / len(predictions)\n",
    "\n",
    "print('The accuracy is %.1f%%' % (100 * accuracy))\n",
    "plot_confusion_matrix(predictions, y_val)"
   ]
  },
  {
   "cell_type": "markdown",
   "metadata": {},
   "source": [
    "### Question 4: A More Useful Application\n",
    "\n",
    "This exercise showed how bag of words and SWEM models can be used to solve a difficult, but not very useful, text classification problem. In one paragraph, describe a clinical application of text classification that could be impactful based on your experience."
   ]
  }
 ],
 "metadata": {
  "kernelspec": {
   "display_name": "Python 3",
   "language": "python",
   "name": "python3"
  },
  "language_info": {
   "codemirror_mode": {
    "name": "ipython",
    "version": 3
   },
   "file_extension": ".py",
   "mimetype": "text/x-python",
   "name": "python",
   "nbconvert_exporter": "python",
   "pygments_lexer": "ipython3",
   "version": "3.7.4"
  }
 },
 "nbformat": 4,
 "nbformat_minor": 2
}
