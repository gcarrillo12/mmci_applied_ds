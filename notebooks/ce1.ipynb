{
 "cells": [
  {
   "cell_type": "markdown",
   "id": "minor-mention",
   "metadata": {},
   "source": [
    "# Computational Exercise 1: Welcome to the Jupyter Notebook!"
   ]
  },
  {
   "cell_type": "code",
   "execution_count": 1,
   "id": "abstract-tooth",
   "metadata": {},
   "outputs": [
    {
     "name": "stdout",
     "output_type": "stream",
     "text": [
      "And welcome to Python!\n"
     ]
    }
   ],
   "source": [
    "print('And welcome to Python!')"
   ]
  },
  {
   "cell_type": "markdown",
   "id": "portuguese-attitude",
   "metadata": {},
   "source": [
    "This exercise is intended to introduce you to working in Python in a Jupyter notebook environment and ensure your environment is working properly.\n",
    "\n",
    "### We can add text in *Markdown* blocks..."
   ]
  },
  {
   "cell_type": "code",
   "execution_count": 2,
   "id": "sustainable-saying",
   "metadata": {},
   "outputs": [
    {
     "name": "stdout",
     "output_type": "stream",
     "text": [
      "...and code in code blocks.\n"
     ]
    }
   ],
   "source": [
    "print('...and code in code blocks.')"
   ]
  },
  {
   "cell_type": "markdown",
   "id": "velvet-deployment",
   "metadata": {},
   "source": [
    "### List comprehensions are a convenient way to create new lists from existing ones:"
   ]
  },
  {
   "cell_type": "code",
   "execution_count": 3,
   "id": "abstract-mistress",
   "metadata": {},
   "outputs": [
    {
     "name": "stdout",
     "output_type": "stream",
     "text": [
      "[1, 2, 4, 8, 16, 32, 64, 128, 256, 512]\n"
     ]
    }
   ],
   "source": [
    "powers_of_two = [2 ** n for n in range(10)]\n",
    "print(powers_of_two)"
   ]
  },
  {
   "cell_type": "markdown",
   "id": "adverse-jacket",
   "metadata": {},
   "source": [
    "### Exercise 1.1: Use a list comprehension to enumerate the first 10 cubes (i.e. $\\{0^3, ..., 9^3\\}$)"
   ]
  },
  {
   "cell_type": "code",
   "execution_count": 4,
   "id": "institutional-surge",
   "metadata": {},
   "outputs": [],
   "source": [
    "## YOUR CODE BELOW ##\n",
    "\n",
    "\n",
    "\n",
    "## YOUR CODE ABOVE ##"
   ]
  },
  {
   "cell_type": "markdown",
   "id": "phantom-cornwall",
   "metadata": {},
   "source": [
    "### We can manipulate arrays in `numpy` and plot them with `matplotlib`."
   ]
  },
  {
   "cell_type": "code",
   "execution_count": 5,
   "id": "terminal-marking",
   "metadata": {},
   "outputs": [
    {
     "data": {
      "image/png": "[encoded data removed]",
      "text/plain": [
       "<Figure size 432x288 with 1 Axes>"
      ]
     },
     "metadata": {
      "needs_background": "light"
     },
     "output_type": "display_data"
    }
   ],
   "source": [
    "import numpy as np\n",
    "import matplotlib.pyplot as plt\n",
    "\n",
    "x = np.random.randn(10000)\n",
    "\n",
    "plt.hist(x, bins=30)\n",
    "plt.show()"
   ]
  },
  {
   "cell_type": "markdown",
   "id": "integrated-survey",
   "metadata": {},
   "source": [
    "### Exercise 1.2: Plot a function of your choice using `plt.plot()`"
   ]
  },
  {
   "cell_type": "code",
   "execution_count": 6,
   "id": "alternate-massachusetts",
   "metadata": {},
   "outputs": [],
   "source": [
    "## YOUR CODE BELOW ##\n",
    "\n",
    "\n",
    "\n",
    "## YOUR CODE ABOVE ##"
   ]
  },
  {
   "cell_type": "markdown",
   "id": "dental-lodging",
   "metadata": {},
   "source": [
    "### Finally, `pandas` gives us dataframes along with tools needed to analyze them."
   ]
  },
  {
   "cell_type": "code",
   "execution_count": 7,
   "id": "responsible-baltimore",
   "metadata": {},
   "outputs": [
    {
     "data": {
      "text/html": [
       "<div>\n",
       "<style scoped>\n",
       "    .dataframe tbody tr th:only-of-type {\n",
       "        vertical-align: middle;\n",
       "    }\n",
       "\n",
       "    .dataframe tbody tr th {\n",
       "        vertical-align: top;\n",
       "    }\n",
       "\n",
       "    .dataframe thead th {\n",
       "        text-align: right;\n",
       "    }\n",
       "</style>\n",
       "<table border=\"1\" class=\"dataframe\">\n",
       "  <thead>\n",
       "    <tr style=\"text-align: right;\">\n",
       "      <th></th>\n",
       "      <th>name</th>\n",
       "      <th>position</th>\n",
       "      <th>height</th>\n",
       "    </tr>\n",
       "  </thead>\n",
       "  <tbody>\n",
       "    <tr>\n",
       "      <th>0</th>\n",
       "      <td>Chamberlain</td>\n",
       "      <td>C</td>\n",
       "      <td>85</td>\n",
       "    </tr>\n",
       "    <tr>\n",
       "      <th>1</th>\n",
       "      <td>Abdul-Jabbar</td>\n",
       "      <td>C</td>\n",
       "      <td>86</td>\n",
       "    </tr>\n",
       "    <tr>\n",
       "      <th>2</th>\n",
       "      <td>Johnson</td>\n",
       "      <td>PG</td>\n",
       "      <td>81</td>\n",
       "    </tr>\n",
       "    <tr>\n",
       "      <th>3</th>\n",
       "      <td>Jordan</td>\n",
       "      <td>SG</td>\n",
       "      <td>78</td>\n",
       "    </tr>\n",
       "    <tr>\n",
       "      <th>4</th>\n",
       "      <td>Bryant</td>\n",
       "      <td>SG</td>\n",
       "      <td>78</td>\n",
       "    </tr>\n",
       "    <tr>\n",
       "      <th>5</th>\n",
       "      <td>James</td>\n",
       "      <td>SF</td>\n",
       "      <td>81</td>\n",
       "    </tr>\n",
       "    <tr>\n",
       "      <th>6</th>\n",
       "      <td>Curry</td>\n",
       "      <td>PG</td>\n",
       "      <td>75</td>\n",
       "    </tr>\n",
       "  </tbody>\n",
       "</table>\n",
       "</div>"
      ],
      "text/plain": [
       "           name position  height\n",
       "0   Chamberlain        C      85\n",
       "1  Abdul-Jabbar        C      86\n",
       "2       Johnson       PG      81\n",
       "3        Jordan       SG      78\n",
       "4        Bryant       SG      78\n",
       "5         James       SF      81\n",
       "6         Curry       PG      75"
      ]
     },
     "execution_count": 7,
     "metadata": {},
     "output_type": "execute_result"
    }
   ],
   "source": [
    "import pandas as pd\n",
    "\n",
    "df = pd.DataFrame({\n",
    "    'name': ['Chamberlain', 'Abdul-Jabbar', 'Johnson', 'Jordan', 'Bryant', 'James', 'Curry'],\n",
    "    'position': ['C', 'C', 'PG', 'SG', 'SG', 'SF', 'PG'],\n",
    "    'height': 6 * 12 + np.array([13, 14, 9, 6, 6, 9, 3])\n",
    "})\n",
    "\n",
    "df"
   ]
  },
  {
   "cell_type": "code",
   "execution_count": 8,
   "id": "thirty-assistant",
   "metadata": {},
   "outputs": [
    {
     "data": {
      "text/html": [
       "<div>\n",
       "<style scoped>\n",
       "    .dataframe tbody tr th:only-of-type {\n",
       "        vertical-align: middle;\n",
       "    }\n",
       "\n",
       "    .dataframe tbody tr th {\n",
       "        vertical-align: top;\n",
       "    }\n",
       "\n",
       "    .dataframe thead th {\n",
       "        text-align: right;\n",
       "    }\n",
       "</style>\n",
       "<table border=\"1\" class=\"dataframe\">\n",
       "  <thead>\n",
       "    <tr style=\"text-align: right;\">\n",
       "      <th></th>\n",
       "      <th>height</th>\n",
       "    </tr>\n",
       "    <tr>\n",
       "      <th>position</th>\n",
       "      <th></th>\n",
       "    </tr>\n",
       "  </thead>\n",
       "  <tbody>\n",
       "    <tr>\n",
       "      <th>PG</th>\n",
       "      <td>78.0</td>\n",
       "    </tr>\n",
       "    <tr>\n",
       "      <th>SG</th>\n",
       "      <td>78.0</td>\n",
       "    </tr>\n",
       "    <tr>\n",
       "      <th>SF</th>\n",
       "      <td>81.0</td>\n",
       "    </tr>\n",
       "    <tr>\n",
       "      <th>C</th>\n",
       "      <td>85.5</td>\n",
       "    </tr>\n",
       "  </tbody>\n",
       "</table>\n",
       "</div>"
      ],
      "text/plain": [
       "          height\n",
       "position        \n",
       "PG          78.0\n",
       "SG          78.0\n",
       "SF          81.0\n",
       "C           85.5"
      ]
     },
     "execution_count": 8,
     "metadata": {},
     "output_type": "execute_result"
    }
   ],
   "source": [
    "df.groupby('position').mean().sort_values('height')"
   ]
  },
  {
   "cell_type": "markdown",
   "id": "capable-tours",
   "metadata": {},
   "source": [
    "### Exercise 1.3: Add a column to the dataframe that gives the players' height in *feet* rather than *inches*."
   ]
  },
  {
   "cell_type": "code",
   "execution_count": 9,
   "id": "unsigned-queen",
   "metadata": {},
   "outputs": [],
   "source": [
    "## YOUR CODE BELOW ##\n",
    "\n",
    "\n",
    "\n",
    "## YOUR CODE ABOVE ##"
   ]
  },
  {
   "cell_type": "markdown",
   "id": "refined-sacrifice",
   "metadata": {},
   "source": [
    "### Once you've completed these exercises, please turn in the assignment as follows:\n",
    "\n",
    "If you're using Anaconda on your local machine:\n",
    "- download your notebook as html (see File > Download as > HTML (.html))\n",
    "- submit the resulting file as your assignment\n",
    "- if .html files are not accepted, .zip the file (i.e. place it in a .zip archive) and submit the .zip file instead\n",
    "\n",
    "If you're using Google Colab:\n",
    "- download your notebook as .ipynb (see File > Download > Download .ipynb)\n",
    "- if you have nbconvert installed, convert it to .html; if not, leave is as .ipynb\n",
    "- submit the resulting file as your assignment\n",
    "- if this file is not accepted, .zip the file (i.e. place it in a .zip archive) and submit the .zip file instead"
   ]
  },
  {
   "cell_type": "code",
   "execution_count": null,
   "id": "combined-spider",
   "metadata": {},
   "outputs": [],
   "source": []
  }
 ],
 "metadata": {
  "kernelspec": {
   "display_name": "Python 3 (ipykernel)",
   "language": "python",
   "name": "python3"
  },
  "language_info": {
   "codemirror_mode": {
    "name": "ipython",
    "version": 3
   },
   "file_extension": ".py",
   "mimetype": "text/x-python",
   "name": "python",
   "nbconvert_exporter": "python",
   "pygments_lexer": "ipython3",
   "version": "3.9.6"
  }
 },
 "nbformat": 4,
 "nbformat_minor": 5
}
