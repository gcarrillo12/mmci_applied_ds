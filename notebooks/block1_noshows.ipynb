{
 "cells": [
  {
   "cell_type": "markdown",
   "metadata": {},
   "source": [
    "# MMCi Block 1 Computational Exercise\n",
    "---\n",
    "*From Logistic Regression to the Multilayer Perceptron: Predicting Clinic Appointment No-Shows*\n",
    "\n",
    "In this exercise, we will work with a dataset of [over 100k clinic appointments](https://www.kaggle.com/joniarroba/noshowappointments) to predict no-shows based on patient characteristics and appointment scheduling details. After importing and preprocessing the data, we will train logistic regression and multilayer perceptron models and compare their performance. After selecting a final model, we will apply it to a test set that we initially set aside."
   ]
  },
  {
   "cell_type": "code",
   "execution_count": 1,
   "metadata": {},
   "outputs": [],
   "source": [
    "import numpy as np\n",
    "import pandas as pd\n",
    "import seaborn as sns\n",
    "import matplotlib.pyplot as plt\n",
    "from sklearn.linear_model import LogisticRegression\n",
    "from sklearn.neural_network import MLPClassifier"
   ]
  },
  {
   "cell_type": "markdown",
   "metadata": {},
   "source": [
    "### Data Import\n",
    "We will begin by loading the data from .csv file with the 'pandas' data analysis library. Data is read with the `pd.read_csv()` command, which creates a pandas dataframe from the specified .csv file. In this command, we also tell pandas that some columns should be interpreted as a datetime, and others should be interpreted as categorical variables. After reading the file, we will drop unneeded columns using the `df.drop()` command, drop rows with missing values using the `df.dropna()` command, and rename misspelled column headers using `df.rename()`. Finally, we can preview the resulting dataframe using `df.head()`."
   ]
  },
  {
   "cell_type": "code",
   "execution_count": 2,
   "metadata": {},
   "outputs": [
    {
     "name": "stdout",
     "output_type": "stream",
     "text": [
      "Successfully loaded 110527 records.\n"
     ]
    },
    {
     "data": {
      "text/html": [
       "<div>\n",
       "<style>\n",
       "    .dataframe thead tr:only-child th {\n",
       "        text-align: right;\n",
       "    }\n",
       "\n",
       "    .dataframe thead th {\n",
       "        text-align: left;\n",
       "    }\n",
       "\n",
       "    .dataframe tbody tr th {\n",
       "        vertical-align: top;\n",
       "    }\n",
       "</style>\n",
       "<table border=\"1\" class=\"dataframe\">\n",
       "  <thead>\n",
       "    <tr style=\"text-align: right;\">\n",
       "      <th></th>\n",
       "      <th>Sex</th>\n",
       "      <th>ScheduledDay</th>\n",
       "      <th>AppointmentDay</th>\n",
       "      <th>Age</th>\n",
       "      <th>Neighborhood</th>\n",
       "      <th>Scholarship</th>\n",
       "      <th>Hypertension</th>\n",
       "      <th>Diabetes</th>\n",
       "      <th>Alcoholism</th>\n",
       "      <th>Handicap</th>\n",
       "      <th>SMS_received</th>\n",
       "      <th>No-show</th>\n",
       "    </tr>\n",
       "  </thead>\n",
       "  <tbody>\n",
       "    <tr>\n",
       "      <th>0</th>\n",
       "      <td>F</td>\n",
       "      <td>2016-04-29 18:38:08</td>\n",
       "      <td>2016-04-29</td>\n",
       "      <td>62.0</td>\n",
       "      <td>JARDIM DA PENHA</td>\n",
       "      <td>0</td>\n",
       "      <td>1</td>\n",
       "      <td>0</td>\n",
       "      <td>0</td>\n",
       "      <td>0</td>\n",
       "      <td>0</td>\n",
       "      <td>No</td>\n",
       "    </tr>\n",
       "    <tr>\n",
       "      <th>1</th>\n",
       "      <td>M</td>\n",
       "      <td>2016-04-29 16:08:27</td>\n",
       "      <td>2016-04-29</td>\n",
       "      <td>56.0</td>\n",
       "      <td>JARDIM DA PENHA</td>\n",
       "      <td>0</td>\n",
       "      <td>0</td>\n",
       "      <td>0</td>\n",
       "      <td>0</td>\n",
       "      <td>0</td>\n",
       "      <td>0</td>\n",
       "      <td>No</td>\n",
       "    </tr>\n",
       "    <tr>\n",
       "      <th>2</th>\n",
       "      <td>F</td>\n",
       "      <td>2016-04-29 16:19:04</td>\n",
       "      <td>2016-04-29</td>\n",
       "      <td>62.0</td>\n",
       "      <td>MATA DA PRAIA</td>\n",
       "      <td>0</td>\n",
       "      <td>0</td>\n",
       "      <td>0</td>\n",
       "      <td>0</td>\n",
       "      <td>0</td>\n",
       "      <td>0</td>\n",
       "      <td>No</td>\n",
       "    </tr>\n",
       "    <tr>\n",
       "      <th>3</th>\n",
       "      <td>F</td>\n",
       "      <td>2016-04-29 17:29:31</td>\n",
       "      <td>2016-04-29</td>\n",
       "      <td>8.0</td>\n",
       "      <td>PONTAL DE CAMBURI</td>\n",
       "      <td>0</td>\n",
       "      <td>0</td>\n",
       "      <td>0</td>\n",
       "      <td>0</td>\n",
       "      <td>0</td>\n",
       "      <td>0</td>\n",
       "      <td>No</td>\n",
       "    </tr>\n",
       "    <tr>\n",
       "      <th>4</th>\n",
       "      <td>F</td>\n",
       "      <td>2016-04-29 16:07:23</td>\n",
       "      <td>2016-04-29</td>\n",
       "      <td>56.0</td>\n",
       "      <td>JARDIM DA PENHA</td>\n",
       "      <td>0</td>\n",
       "      <td>1</td>\n",
       "      <td>1</td>\n",
       "      <td>0</td>\n",
       "      <td>0</td>\n",
       "      <td>0</td>\n",
       "      <td>No</td>\n",
       "    </tr>\n",
       "    <tr>\n",
       "      <th>5</th>\n",
       "      <td>F</td>\n",
       "      <td>2016-04-27 08:36:51</td>\n",
       "      <td>2016-04-29</td>\n",
       "      <td>76.0</td>\n",
       "      <td>REPÚBLICA</td>\n",
       "      <td>0</td>\n",
       "      <td>1</td>\n",
       "      <td>0</td>\n",
       "      <td>0</td>\n",
       "      <td>0</td>\n",
       "      <td>0</td>\n",
       "      <td>No</td>\n",
       "    </tr>\n",
       "    <tr>\n",
       "      <th>6</th>\n",
       "      <td>F</td>\n",
       "      <td>2016-04-27 15:05:12</td>\n",
       "      <td>2016-04-29</td>\n",
       "      <td>23.0</td>\n",
       "      <td>GOIABEIRAS</td>\n",
       "      <td>0</td>\n",
       "      <td>0</td>\n",
       "      <td>0</td>\n",
       "      <td>0</td>\n",
       "      <td>0</td>\n",
       "      <td>0</td>\n",
       "      <td>Yes</td>\n",
       "    </tr>\n",
       "    <tr>\n",
       "      <th>7</th>\n",
       "      <td>F</td>\n",
       "      <td>2016-04-27 15:39:58</td>\n",
       "      <td>2016-04-29</td>\n",
       "      <td>39.0</td>\n",
       "      <td>GOIABEIRAS</td>\n",
       "      <td>0</td>\n",
       "      <td>0</td>\n",
       "      <td>0</td>\n",
       "      <td>0</td>\n",
       "      <td>0</td>\n",
       "      <td>0</td>\n",
       "      <td>Yes</td>\n",
       "    </tr>\n",
       "    <tr>\n",
       "      <th>8</th>\n",
       "      <td>F</td>\n",
       "      <td>2016-04-29 08:02:16</td>\n",
       "      <td>2016-04-29</td>\n",
       "      <td>21.0</td>\n",
       "      <td>ANDORINHAS</td>\n",
       "      <td>0</td>\n",
       "      <td>0</td>\n",
       "      <td>0</td>\n",
       "      <td>0</td>\n",
       "      <td>0</td>\n",
       "      <td>0</td>\n",
       "      <td>No</td>\n",
       "    </tr>\n",
       "    <tr>\n",
       "      <th>9</th>\n",
       "      <td>F</td>\n",
       "      <td>2016-04-27 12:48:25</td>\n",
       "      <td>2016-04-29</td>\n",
       "      <td>19.0</td>\n",
       "      <td>CONQUISTA</td>\n",
       "      <td>0</td>\n",
       "      <td>0</td>\n",
       "      <td>0</td>\n",
       "      <td>0</td>\n",
       "      <td>0</td>\n",
       "      <td>0</td>\n",
       "      <td>No</td>\n",
       "    </tr>\n",
       "  </tbody>\n",
       "</table>\n",
       "</div>"
      ],
      "text/plain": [
       "  Sex        ScheduledDay AppointmentDay   Age       Neighborhood  \\\n",
       "0   F 2016-04-29 18:38:08     2016-04-29  62.0    JARDIM DA PENHA   \n",
       "1   M 2016-04-29 16:08:27     2016-04-29  56.0    JARDIM DA PENHA   \n",
       "2   F 2016-04-29 16:19:04     2016-04-29  62.0      MATA DA PRAIA   \n",
       "3   F 2016-04-29 17:29:31     2016-04-29   8.0  PONTAL DE CAMBURI   \n",
       "4   F 2016-04-29 16:07:23     2016-04-29  56.0    JARDIM DA PENHA   \n",
       "5   F 2016-04-27 08:36:51     2016-04-29  76.0          REPÚBLICA   \n",
       "6   F 2016-04-27 15:05:12     2016-04-29  23.0         GOIABEIRAS   \n",
       "7   F 2016-04-27 15:39:58     2016-04-29  39.0         GOIABEIRAS   \n",
       "8   F 2016-04-29 08:02:16     2016-04-29  21.0         ANDORINHAS   \n",
       "9   F 2016-04-27 12:48:25     2016-04-29  19.0          CONQUISTA   \n",
       "\n",
       "   Scholarship  Hypertension  Diabetes  Alcoholism Handicap  SMS_received  \\\n",
       "0            0             1         0           0        0             0   \n",
       "1            0             0         0           0        0             0   \n",
       "2            0             0         0           0        0             0   \n",
       "3            0             0         0           0        0             0   \n",
       "4            0             1         1           0        0             0   \n",
       "5            0             1         0           0        0             0   \n",
       "6            0             0         0           0        0             0   \n",
       "7            0             0         0           0        0             0   \n",
       "8            0             0         0           0        0             0   \n",
       "9            0             0         0           0        0             0   \n",
       "\n",
       "  No-show  \n",
       "0      No  \n",
       "1      No  \n",
       "2      No  \n",
       "3      No  \n",
       "4      No  \n",
       "5      No  \n",
       "6     Yes  \n",
       "7     Yes  \n",
       "8      No  \n",
       "9      No  "
      ]
     },
     "execution_count": 2,
     "metadata": {},
     "output_type": "execute_result"
    }
   ],
   "source": [
    "datafile = '../data/noshows_raw.csv'\n",
    "\n",
    "datatypes = {'Gender': 'category',\n",
    "             'Age': np.float32,\n",
    "             'Neighbourhood': 'category',\n",
    "             'Handcap': 'category'}\n",
    "\n",
    "datetime_columns = ['ScheduledDay', 'AppointmentDay']\n",
    "\n",
    "columns_to_exclude = ['PatientId', 'AppointmentID']\n",
    "\n",
    "df = pd.read_csv(\n",
    "    datafile,\n",
    "    dtype=datatypes,\n",
    "    parse_dates=datetime_columns)\n",
    "\n",
    "df = df.drop(columns_to_exclude, axis=1).dropna()\n",
    "\n",
    "df = df.rename(columns={'Neighbourhood': 'Neighborhood',\n",
    "                        'Hipertension': 'Hypertension',\n",
    "                        'Handcap': 'Handicap',\n",
    "                        'Gender': 'Sex'})\n",
    "\n",
    "print('Successfully loaded', len(df), 'records.')\n",
    "df.head(10)"
   ]
  },
  {
   "cell_type": "markdown",
   "metadata": {},
   "source": [
    "For this exercise, we will simplify the problem by correcting the imbalance between 'Shows' and 'No-Shows' in the dataset. Without doing this, an accuracy of $\\frac{Show}{Total} \\approx 79.8\\%$ can be achieved with a classifier that always predicts 'Show', which turns out to be a difficult benchmark to beat."
   ]
  },
  {
   "cell_type": "code",
   "execution_count": 3,
   "metadata": {},
   "outputs": [
    {
     "name": "stdout",
     "output_type": "stream",
     "text": [
      "There are 88208 Shows and 22319 No-Shows in the dataset.\n",
      "After correcting this imbalance, we have 44638 records.\n"
     ]
    }
   ],
   "source": [
    "show = df['No-show'] == 'No'\n",
    "noshow = df['No-show'] == 'Yes'\n",
    "\n",
    "print('There are', sum(show), 'Shows and', sum(noshow), 'No-Shows in the dataset.')\n",
    "\n",
    "df = pd.concat([df[noshow], df[show].sample(n=sum(noshow), random_state=0)])\n",
    "\n",
    "print('After correcting this imbalance, we have', len(df), 'records.')"
   ]
  },
  {
   "cell_type": "markdown",
   "metadata": {},
   "source": [
    "### Descriptive Statistics\n",
    "Let's quickly take a look at some descriptive statistics for the dataset as a whole, starting with age and sex. We can use the `series.describe()` command for numeric variables, and the `series.value_counts()` command for categorical variables. Note that the use of square brackets around a column name (e.g. `df['Age']`) allows us to pick out that column of the dataframe."
   ]
  },
  {
   "cell_type": "code",
   "execution_count": 4,
   "metadata": {},
   "outputs": [
    {
     "data": {
      "text/plain": [
       "count    44638.000000\n",
       "mean        36.076080\n",
       "std         22.744379\n",
       "min         -1.000000\n",
       "25%         17.000000\n",
       "50%         35.000000\n",
       "75%         54.000000\n",
       "max        115.000000\n",
       "Name: Age, dtype: float64"
      ]
     },
     "execution_count": 4,
     "metadata": {},
     "output_type": "execute_result"
    }
   ],
   "source": [
    "df['Age'].describe()"
   ]
  },
  {
   "cell_type": "code",
   "execution_count": 5,
   "metadata": {},
   "outputs": [
    {
     "data": {
      "text/plain": [
       "F    29094\n",
       "M    15544\n",
       "Name: Sex, dtype: int64"
      ]
     },
     "execution_count": 5,
     "metadata": {},
     "output_type": "execute_result"
    }
   ],
   "source": [
    "df['Sex'].value_counts()"
   ]
  },
  {
   "cell_type": "markdown",
   "metadata": {},
   "source": [
    "Since several of the columns are (0, 1)-valued, we can describe them together more compactly."
   ]
  },
  {
   "cell_type": "code",
   "execution_count": 6,
   "metadata": {},
   "outputs": [
    {
     "data": {
      "text/html": [
       "<div>\n",
       "<style>\n",
       "    .dataframe thead tr:only-child th {\n",
       "        text-align: right;\n",
       "    }\n",
       "\n",
       "    .dataframe thead th {\n",
       "        text-align: left;\n",
       "    }\n",
       "\n",
       "    .dataframe tbody tr th {\n",
       "        vertical-align: top;\n",
       "    }\n",
       "</style>\n",
       "<table border=\"1\" class=\"dataframe\">\n",
       "  <thead>\n",
       "    <tr style=\"text-align: right;\">\n",
       "      <th></th>\n",
       "      <th>0</th>\n",
       "      <th>1</th>\n",
       "    </tr>\n",
       "  </thead>\n",
       "  <tbody>\n",
       "    <tr>\n",
       "      <th>Scholarship</th>\n",
       "      <td>39926</td>\n",
       "      <td>4712</td>\n",
       "    </tr>\n",
       "    <tr>\n",
       "      <th>Hypertension</th>\n",
       "      <td>36287</td>\n",
       "      <td>8351</td>\n",
       "    </tr>\n",
       "    <tr>\n",
       "      <th>Diabetes</th>\n",
       "      <td>41535</td>\n",
       "      <td>3103</td>\n",
       "    </tr>\n",
       "    <tr>\n",
       "      <th>Alcoholism</th>\n",
       "      <td>43293</td>\n",
       "      <td>1345</td>\n",
       "    </tr>\n",
       "    <tr>\n",
       "      <th>SMS_received</th>\n",
       "      <td>28329</td>\n",
       "      <td>16309</td>\n",
       "    </tr>\n",
       "  </tbody>\n",
       "</table>\n",
       "</div>"
      ],
      "text/plain": [
       "                  0      1\n",
       "Scholarship   39926   4712\n",
       "Hypertension  36287   8351\n",
       "Diabetes      41535   3103\n",
       "Alcoholism    43293   1345\n",
       "SMS_received  28329  16309"
      ]
     },
     "execution_count": 6,
     "metadata": {},
     "output_type": "execute_result"
    }
   ],
   "source": [
    "col = ['Scholarship', 'Hypertension', 'Diabetes', 'Alcoholism', 'SMS_received']\n",
    "df[col].apply(pd.Series.value_counts).T"
   ]
  },
  {
   "cell_type": "markdown",
   "metadata": {},
   "source": [
    "Instead of listing all the neighborhoods, let's first see how many there are, then create a histogram to see how many neighborhoods are common."
   ]
  },
  {
   "cell_type": "code",
   "execution_count": 7,
   "metadata": {},
   "outputs": [
    {
     "name": "stdout",
     "output_type": "stream",
     "text": [
      "There are 80 different neighborhoods.\n"
     ]
    },
    {
     "data": {
      "image/png": "[encoded data removed]",
      "text/plain": [
       "<matplotlib.figure.Figure at 0x1a24de5780>"
      ]
     },
     "metadata": {
      "needs_background": "light"
     },
     "output_type": "display_data"
    }
   ],
   "source": [
    "print('There are', len(df['Neighborhood'].unique()), 'different neighborhoods.')\n",
    "plt.figure(figsize=(20,5))\n",
    "df['Neighborhood'].value_counts().plot(kind='bar', rot=90)\n",
    "plt.show()"
   ]
  },
  {
   "cell_type": "markdown",
   "metadata": {},
   "source": [
    "### Data Preprocessing\n",
    "First, to avoid unnecessarily expanding our feature set, we will label neighborhoods with fewer than 200 examples as 'Other'. Strictly speaking, this determination should be made using the training set alone. For the purposes of illustration, we will modify the entire dataset together to avoid complicating our code. Don't worry about the details of this code block -- the point is that we are simplifying our 'Neighborhood' variable."
   ]
  },
  {
   "cell_type": "code",
   "execution_count": 8,
   "metadata": {},
   "outputs": [
    {
     "name": "stdout",
     "output_type": "stream",
     "text": [
      "There are 56 different neighborhoods.\n"
     ]
    },
    {
     "data": {
      "image/png": "[encoded data removed]",
      "text/plain": [
       "<matplotlib.figure.Figure at 0x1a262f36a0>"
      ]
     },
     "metadata": {
      "needs_background": "light"
     },
     "output_type": "display_data"
    }
   ],
   "source": [
    "uncommon_neighborhoods = df['Neighborhood'].value_counts()[df['Neighborhood'].value_counts() < 200].index.values\n",
    "neighborhood_assign = {x:('Other' if x in uncommon_neighborhoods else x) for x in df['Neighborhood'].unique()}\n",
    "\n",
    "df['Neighborhood'] = df['Neighborhood'].map(\n",
    "    neighborhood_assign).astype('category',categories=set(neighborhood_assign.values()))\n",
    "print('There are', len(df['Neighborhood'].unique()), 'different neighborhoods.')\n",
    "plt.figure(figsize=(20,5))\n",
    "df['Neighborhood'].value_counts().plot(kind='bar', rot=90)\n",
    "plt.show()"
   ]
  },
  {
   "cell_type": "markdown",
   "metadata": {},
   "source": [
    "For our model, we will need to 'one-hot encode' our categorical features. We also need to look at the time difference between appointment scheduling and the appointment itself. We will create two simple helper functions to do this."
   ]
  },
  {
   "cell_type": "code",
   "execution_count": 9,
   "metadata": {},
   "outputs": [],
   "source": [
    "def replace_categories_with_one_hot(df, col):\n",
    "    return pd.concat([df.drop(col, axis=1), pd.get_dummies(df[col], prefix=col)], axis=1)\n",
    "\n",
    "def difference_in_days(df, col1, col2):\n",
    "    return (df[col2].dt.date - df[col1].dt.date).dt.days"
   ]
  },
  {
   "cell_type": "markdown",
   "metadata": {},
   "source": [
    "With these helpers defined, we will add several new features. These are described in comments (e.g. `# comment`) in the code block below."
   ]
  },
  {
   "cell_type": "code",
   "execution_count": 10,
   "metadata": {},
   "outputs": [
    {
     "data": {
      "text/html": [
       "<div>\n",
       "<style>\n",
       "    .dataframe thead tr:only-child th {\n",
       "        text-align: right;\n",
       "    }\n",
       "\n",
       "    .dataframe thead th {\n",
       "        text-align: left;\n",
       "    }\n",
       "\n",
       "    .dataframe tbody tr th {\n",
       "        vertical-align: top;\n",
       "    }\n",
       "</style>\n",
       "<table border=\"1\" class=\"dataframe\">\n",
       "  <thead>\n",
       "    <tr style=\"text-align: right;\">\n",
       "      <th></th>\n",
       "      <th>Sex</th>\n",
       "      <th>Age</th>\n",
       "      <th>Scholarship</th>\n",
       "      <th>Hypertension</th>\n",
       "      <th>Diabetes</th>\n",
       "      <th>Alcoholism</th>\n",
       "      <th>SMS_received</th>\n",
       "      <th>No-show</th>\n",
       "      <th>WaitLength</th>\n",
       "      <th>SameDay</th>\n",
       "      <th>...</th>\n",
       "      <th>ScheduledDayOfWeek_2</th>\n",
       "      <th>ScheduledDayOfWeek_3</th>\n",
       "      <th>ScheduledDayOfWeek_4</th>\n",
       "      <th>ScheduledDayOfWeek_5</th>\n",
       "      <th>AppointmentDayOfWeek_0</th>\n",
       "      <th>AppointmentDayOfWeek_1</th>\n",
       "      <th>AppointmentDayOfWeek_2</th>\n",
       "      <th>AppointmentDayOfWeek_3</th>\n",
       "      <th>AppointmentDayOfWeek_4</th>\n",
       "      <th>AppointmentDayOfWeek_5</th>\n",
       "    </tr>\n",
       "  </thead>\n",
       "  <tbody>\n",
       "    <tr>\n",
       "      <th>6</th>\n",
       "      <td>1</td>\n",
       "      <td>23.0</td>\n",
       "      <td>0</td>\n",
       "      <td>0</td>\n",
       "      <td>0</td>\n",
       "      <td>0</td>\n",
       "      <td>0</td>\n",
       "      <td>1</td>\n",
       "      <td>2</td>\n",
       "      <td>0</td>\n",
       "      <td>...</td>\n",
       "      <td>1</td>\n",
       "      <td>0</td>\n",
       "      <td>0</td>\n",
       "      <td>0</td>\n",
       "      <td>0</td>\n",
       "      <td>0</td>\n",
       "      <td>0</td>\n",
       "      <td>0</td>\n",
       "      <td>1</td>\n",
       "      <td>0</td>\n",
       "    </tr>\n",
       "    <tr>\n",
       "      <th>7</th>\n",
       "      <td>1</td>\n",
       "      <td>39.0</td>\n",
       "      <td>0</td>\n",
       "      <td>0</td>\n",
       "      <td>0</td>\n",
       "      <td>0</td>\n",
       "      <td>0</td>\n",
       "      <td>1</td>\n",
       "      <td>2</td>\n",
       "      <td>0</td>\n",
       "      <td>...</td>\n",
       "      <td>1</td>\n",
       "      <td>0</td>\n",
       "      <td>0</td>\n",
       "      <td>0</td>\n",
       "      <td>0</td>\n",
       "      <td>0</td>\n",
       "      <td>0</td>\n",
       "      <td>0</td>\n",
       "      <td>1</td>\n",
       "      <td>0</td>\n",
       "    </tr>\n",
       "    <tr>\n",
       "      <th>11</th>\n",
       "      <td>0</td>\n",
       "      <td>29.0</td>\n",
       "      <td>0</td>\n",
       "      <td>0</td>\n",
       "      <td>0</td>\n",
       "      <td>0</td>\n",
       "      <td>1</td>\n",
       "      <td>1</td>\n",
       "      <td>3</td>\n",
       "      <td>0</td>\n",
       "      <td>...</td>\n",
       "      <td>0</td>\n",
       "      <td>0</td>\n",
       "      <td>0</td>\n",
       "      <td>0</td>\n",
       "      <td>0</td>\n",
       "      <td>0</td>\n",
       "      <td>0</td>\n",
       "      <td>0</td>\n",
       "      <td>1</td>\n",
       "      <td>0</td>\n",
       "    </tr>\n",
       "    <tr>\n",
       "      <th>17</th>\n",
       "      <td>1</td>\n",
       "      <td>40.0</td>\n",
       "      <td>1</td>\n",
       "      <td>0</td>\n",
       "      <td>0</td>\n",
       "      <td>0</td>\n",
       "      <td>0</td>\n",
       "      <td>1</td>\n",
       "      <td>1</td>\n",
       "      <td>0</td>\n",
       "      <td>...</td>\n",
       "      <td>0</td>\n",
       "      <td>1</td>\n",
       "      <td>0</td>\n",
       "      <td>0</td>\n",
       "      <td>0</td>\n",
       "      <td>0</td>\n",
       "      <td>0</td>\n",
       "      <td>0</td>\n",
       "      <td>1</td>\n",
       "      <td>0</td>\n",
       "    </tr>\n",
       "    <tr>\n",
       "      <th>20</th>\n",
       "      <td>1</td>\n",
       "      <td>30.0</td>\n",
       "      <td>0</td>\n",
       "      <td>0</td>\n",
       "      <td>0</td>\n",
       "      <td>0</td>\n",
       "      <td>0</td>\n",
       "      <td>1</td>\n",
       "      <td>2</td>\n",
       "      <td>0</td>\n",
       "      <td>...</td>\n",
       "      <td>1</td>\n",
       "      <td>0</td>\n",
       "      <td>0</td>\n",
       "      <td>0</td>\n",
       "      <td>0</td>\n",
       "      <td>0</td>\n",
       "      <td>0</td>\n",
       "      <td>0</td>\n",
       "      <td>1</td>\n",
       "      <td>0</td>\n",
       "    </tr>\n",
       "    <tr>\n",
       "      <th>21</th>\n",
       "      <td>1</td>\n",
       "      <td>4.0</td>\n",
       "      <td>0</td>\n",
       "      <td>0</td>\n",
       "      <td>0</td>\n",
       "      <td>0</td>\n",
       "      <td>0</td>\n",
       "      <td>1</td>\n",
       "      <td>2</td>\n",
       "      <td>0</td>\n",
       "      <td>...</td>\n",
       "      <td>1</td>\n",
       "      <td>0</td>\n",
       "      <td>0</td>\n",
       "      <td>0</td>\n",
       "      <td>0</td>\n",
       "      <td>0</td>\n",
       "      <td>0</td>\n",
       "      <td>0</td>\n",
       "      <td>1</td>\n",
       "      <td>0</td>\n",
       "    </tr>\n",
       "    <tr>\n",
       "      <th>22</th>\n",
       "      <td>0</td>\n",
       "      <td>13.0</td>\n",
       "      <td>0</td>\n",
       "      <td>0</td>\n",
       "      <td>0</td>\n",
       "      <td>0</td>\n",
       "      <td>1</td>\n",
       "      <td>1</td>\n",
       "      <td>4</td>\n",
       "      <td>0</td>\n",
       "      <td>...</td>\n",
       "      <td>0</td>\n",
       "      <td>0</td>\n",
       "      <td>0</td>\n",
       "      <td>0</td>\n",
       "      <td>0</td>\n",
       "      <td>0</td>\n",
       "      <td>0</td>\n",
       "      <td>0</td>\n",
       "      <td>1</td>\n",
       "      <td>0</td>\n",
       "    </tr>\n",
       "    <tr>\n",
       "      <th>31</th>\n",
       "      <td>0</td>\n",
       "      <td>12.0</td>\n",
       "      <td>1</td>\n",
       "      <td>0</td>\n",
       "      <td>0</td>\n",
       "      <td>0</td>\n",
       "      <td>0</td>\n",
       "      <td>1</td>\n",
       "      <td>2</td>\n",
       "      <td>0</td>\n",
       "      <td>...</td>\n",
       "      <td>1</td>\n",
       "      <td>0</td>\n",
       "      <td>0</td>\n",
       "      <td>0</td>\n",
       "      <td>0</td>\n",
       "      <td>0</td>\n",
       "      <td>0</td>\n",
       "      <td>0</td>\n",
       "      <td>1</td>\n",
       "      <td>0</td>\n",
       "    </tr>\n",
       "    <tr>\n",
       "      <th>44</th>\n",
       "      <td>1</td>\n",
       "      <td>78.0</td>\n",
       "      <td>0</td>\n",
       "      <td>1</td>\n",
       "      <td>1</td>\n",
       "      <td>0</td>\n",
       "      <td>0</td>\n",
       "      <td>1</td>\n",
       "      <td>1</td>\n",
       "      <td>0</td>\n",
       "      <td>...</td>\n",
       "      <td>0</td>\n",
       "      <td>1</td>\n",
       "      <td>0</td>\n",
       "      <td>0</td>\n",
       "      <td>0</td>\n",
       "      <td>0</td>\n",
       "      <td>0</td>\n",
       "      <td>0</td>\n",
       "      <td>1</td>\n",
       "      <td>0</td>\n",
       "    </tr>\n",
       "    <tr>\n",
       "      <th>48</th>\n",
       "      <td>1</td>\n",
       "      <td>58.0</td>\n",
       "      <td>0</td>\n",
       "      <td>0</td>\n",
       "      <td>0</td>\n",
       "      <td>0</td>\n",
       "      <td>1</td>\n",
       "      <td>1</td>\n",
       "      <td>3</td>\n",
       "      <td>0</td>\n",
       "      <td>...</td>\n",
       "      <td>0</td>\n",
       "      <td>0</td>\n",
       "      <td>0</td>\n",
       "      <td>0</td>\n",
       "      <td>0</td>\n",
       "      <td>0</td>\n",
       "      <td>0</td>\n",
       "      <td>0</td>\n",
       "      <td>1</td>\n",
       "      <td>0</td>\n",
       "    </tr>\n",
       "  </tbody>\n",
       "</table>\n",
       "<p>10 rows × 99 columns</p>\n",
       "</div>"
      ],
      "text/plain": [
       "    Sex   Age  Scholarship  Hypertension  Diabetes  Alcoholism  SMS_received  \\\n",
       "6     1  23.0            0             0         0           0             0   \n",
       "7     1  39.0            0             0         0           0             0   \n",
       "11    0  29.0            0             0         0           0             1   \n",
       "17    1  40.0            1             0         0           0             0   \n",
       "20    1  30.0            0             0         0           0             0   \n",
       "21    1   4.0            0             0         0           0             0   \n",
       "22    0  13.0            0             0         0           0             1   \n",
       "31    0  12.0            1             0         0           0             0   \n",
       "44    1  78.0            0             1         1           0             0   \n",
       "48    1  58.0            0             0         0           0             1   \n",
       "\n",
       "    No-show  WaitLength  SameDay           ...            \\\n",
       "6         1           2        0           ...             \n",
       "7         1           2        0           ...             \n",
       "11        1           3        0           ...             \n",
       "17        1           1        0           ...             \n",
       "20        1           2        0           ...             \n",
       "21        1           2        0           ...             \n",
       "22        1           4        0           ...             \n",
       "31        1           2        0           ...             \n",
       "44        1           1        0           ...             \n",
       "48        1           3        0           ...             \n",
       "\n",
       "    ScheduledDayOfWeek_2  ScheduledDayOfWeek_3  ScheduledDayOfWeek_4  \\\n",
       "6                      1                     0                     0   \n",
       "7                      1                     0                     0   \n",
       "11                     0                     0                     0   \n",
       "17                     0                     1                     0   \n",
       "20                     1                     0                     0   \n",
       "21                     1                     0                     0   \n",
       "22                     0                     0                     0   \n",
       "31                     1                     0                     0   \n",
       "44                     0                     1                     0   \n",
       "48                     0                     0                     0   \n",
       "\n",
       "    ScheduledDayOfWeek_5  AppointmentDayOfWeek_0  AppointmentDayOfWeek_1  \\\n",
       "6                      0                       0                       0   \n",
       "7                      0                       0                       0   \n",
       "11                     0                       0                       0   \n",
       "17                     0                       0                       0   \n",
       "20                     0                       0                       0   \n",
       "21                     0                       0                       0   \n",
       "22                     0                       0                       0   \n",
       "31                     0                       0                       0   \n",
       "44                     0                       0                       0   \n",
       "48                     0                       0                       0   \n",
       "\n",
       "    AppointmentDayOfWeek_2  AppointmentDayOfWeek_3  AppointmentDayOfWeek_4  \\\n",
       "6                        0                       0                       1   \n",
       "7                        0                       0                       1   \n",
       "11                       0                       0                       1   \n",
       "17                       0                       0                       1   \n",
       "20                       0                       0                       1   \n",
       "21                       0                       0                       1   \n",
       "22                       0                       0                       1   \n",
       "31                       0                       0                       1   \n",
       "44                       0                       0                       1   \n",
       "48                       0                       0                       1   \n",
       "\n",
       "    AppointmentDayOfWeek_5  \n",
       "6                        0  \n",
       "7                        0  \n",
       "11                       0  \n",
       "17                       0  \n",
       "20                       0  \n",
       "21                       0  \n",
       "22                       0  \n",
       "31                       0  \n",
       "44                       0  \n",
       "48                       0  \n",
       "\n",
       "[10 rows x 99 columns]"
      ]
     },
     "execution_count": 10,
     "metadata": {},
     "output_type": "execute_result"
    }
   ],
   "source": [
    "# How many days have elapsed between scheduling the appointment and the appointment itself?\n",
    "df['WaitLength'] = difference_in_days(df, 'ScheduledDay', 'AppointmentDay')\n",
    "\n",
    "# Was this a same-day appointment?\n",
    "df['SameDay'] = (df['WaitLength'] == 0).astype(np.int64)\n",
    "\n",
    "# In which hour of the day was it scheduled?\n",
    "df['ScheduledHour'] = df['ScheduledDay'].dt.hour\n",
    "\n",
    "# On which day of the week was it scheduled? Which day was the appointment?\n",
    "df['ScheduledDayOfWeek'] = df['ScheduledDay'].dt.dayofweek\n",
    "df['AppointmentDayOfWeek'] = df['AppointmentDay'].dt.dayofweek\n",
    "\n",
    "# Now, remove datetime columns\n",
    "df = df.drop(['ScheduledDay', 'AppointmentDay'], axis=1)\n",
    "\n",
    "# Convert categorical variables with > 2 categories to one-hot encoding\n",
    "df = replace_categories_with_one_hot(df, 'Handicap')\n",
    "df = replace_categories_with_one_hot(df, 'Neighborhood')\n",
    "df = replace_categories_with_one_hot(df, 'ScheduledHour')\n",
    "df = replace_categories_with_one_hot(df, 'ScheduledDayOfWeek')\n",
    "df = replace_categories_with_one_hot(df, 'AppointmentDayOfWeek')\n",
    "\n",
    "# Convert categorical variables with 2 categories to binary encoding\n",
    "df['Sex'] = (df['Sex'] == 'F').astype(np.int64)\n",
    "df['No-show'] = (df['No-show'] == 'Yes').astype(np.int64)\n",
    "\n",
    "# View resulting dataframe\n",
    "df.head(10)"
   ]
  },
  {
   "cell_type": "markdown",
   "metadata": {},
   "source": [
    "Finally, we will normalize our only two numeric variables: Age and WaitLength"
   ]
  },
  {
   "cell_type": "code",
   "execution_count": 11,
   "metadata": {},
   "outputs": [],
   "source": [
    "df['Age'] = (df['Age'] - df['Age'].mean()) / df['Age'].std()\n",
    "df['WaitLength'] = (df['WaitLength'] - df['WaitLength'].mean()) / df['WaitLength'].std()"
   ]
  },
  {
   "cell_type": "markdown",
   "metadata": {},
   "source": [
    "### Partitioning our data into train, validation, and test sets\n",
    "We will first randomize the order of our data using the `df.sample()` command. Having randomized, we will use 70% of the data for training and 15% for validation. The final 15% will be set aside as a test set to be used only at the very end of our model development process. In this phase, we also separate our labels (y), which are found in the 'No-show' column, from our features (x) in the other columns."
   ]
  },
  {
   "cell_type": "code",
   "execution_count": 13,
   "metadata": {},
   "outputs": [
    {
     "name": "stdout",
     "output_type": "stream",
     "text": [
      "Our train, validation, and test sets contain 31246, 6696, and 6696 instances, respectively\n"
     ]
    }
   ],
   "source": [
    "shuffled_df = df.sample(frac=1, random_state=0).reset_index(drop=True)\n",
    "\n",
    "val_start_idx = int(.7 * len(df))\n",
    "test_start_idx = int(.85 * len(df))\n",
    "\n",
    "x_train = shuffled_df[:val_start_idx].drop('No-show', axis=1)\n",
    "x_val = shuffled_df[val_start_idx:test_start_idx].drop('No-show', axis=1)\n",
    "x_test = shuffled_df[test_start_idx:].drop('No-show', axis=1)\n",
    "\n",
    "y_train = shuffled_df[:val_start_idx]['No-show']\n",
    "y_val = shuffled_df[val_start_idx:test_start_idx]['No-show']\n",
    "y_test = shuffled_df[test_start_idx:]['No-show']\n",
    "\n",
    "print('Our train, validation, and test sets contain %i, %i, and %i instances, respectively.' % (\n",
    "    len(x_train), len(x_val), len(x_test)))"
   ]
  },
  {
   "cell_type": "markdown",
   "metadata": {},
   "source": [
    "### Fitting a vanilla logistic regression model"
   ]
  },
  {
   "cell_type": "code",
   "execution_count": 18,
   "metadata": {},
   "outputs": [
    {
     "data": {
      "text/plain": [
       "[<matplotlib.lines.Line2D at 0x1a26945b70>]"
      ]
     },
     "execution_count": 18,
     "metadata": {},
     "output_type": "execute_result"
    },
    {
     "data": {
      "image/png": "[encoded data removed]",
      "text/plain": [
       "<matplotlib.figure.Figure at 0x1a2bf8e2e8>"
      ]
     },
     "metadata": {
      "needs_background": "light"
     },
     "output_type": "display_data"
    }
   ],
   "source": [
    "accuracy = []\n",
    "\n",
    "C_range = np.logspace(-3, -1, 20)\n",
    "\n",
    "for C in C_range:\n",
    "    lrm = LogisticRegression(C=C).fit(x_train, y_train)\n",
    "    predictions = lrm.predict(x_val)\n",
    "    accuracy.append(sum(y_val == predictions) / len(predictions))\n",
    "    \n",
    "plt.plot(np.log10(C_range), accuracy)"
   ]
  },
  {
   "cell_type": "code",
   "execution_count": 19,
   "metadata": {},
   "outputs": [
    {
     "data": {
      "text/plain": [
       "[<matplotlib.lines.Line2D at 0x1a24f5c940>]"
      ]
     },
     "execution_count": 19,
     "metadata": {},
     "output_type": "execute_result"
    },
    {
     "data": {
      "image/png": "[encoded data removed]",
      "text/plain": [
       "<matplotlib.figure.Figure at 0x1a277459e8>"
      ]
     },
     "metadata": {
      "needs_background": "light"
     },
     "output_type": "display_data"
    }
   ],
   "source": [
    "accuracy = []\n",
    "\n",
    "C_range = np.logspace(-3, -1, 20)\n",
    "\n",
    "for C in C_range:\n",
    "    lrm = LogisticRegression(C=C, penalty='l1').fit(x_train, y_train)\n",
    "    predictions = lrm.predict(x_val)\n",
    "    accuracy.append(sum(y_val == predictions) / len(predictions))\n",
    "    \n",
    "plt.plot(np.log10(C_range), accuracy)"
   ]
  },
  {
   "cell_type": "code",
   "execution_count": 25,
   "metadata": {},
   "outputs": [
    {
     "name": "stdout",
     "output_type": "stream",
     "text": [
      "Run Complete\n",
      "Run Complete\n",
      "Run Complete\n",
      "Run Complete\n"
     ]
    },
    {
     "data": {
      "text/plain": [
       "[<matplotlib.lines.Line2D at 0x1a270563c8>]"
      ]
     },
     "execution_count": 25,
     "metadata": {},
     "output_type": "execute_result"
    },
    {
     "data": {
      "image/png": "[encoded data removed]",
      "text/plain": [
       "<matplotlib.figure.Figure at 0x1a2aca88d0>"
      ]
     },
     "metadata": {
      "needs_background": "light"
     },
     "output_type": "display_data"
    }
   ],
   "source": [
    "accuracy = []\n",
    "\n",
    "layers = [(10), (100), (1000), (10000)]\n",
    "\n",
    "for layer in layers:\n",
    "    lrm = MLPClassifier(hidden_layer_sizes=layer, early_stopping=True)\n",
    "    lrm.fit(x_train, y_train)\n",
    "    predictions = lrm.predict(x_val)\n",
    "    accuracy.append(sum(y_val == predictions) / len(predictions))\n",
    "    print('Run Complete')\n",
    "    \n",
    "plt.plot(np.arange(len(layers)), accuracy)"
   ]
  },
  {
   "cell_type": "code",
   "execution_count": 26,
   "metadata": {},
   "outputs": [
    {
     "name": "stdout",
     "output_type": "stream",
     "text": [
      "Run Complete\n",
      "Run Complete\n",
      "Run Complete\n",
      "Run Complete\n"
     ]
    },
    {
     "data": {
      "text/plain": [
       "[<matplotlib.lines.Line2D at 0x1a26ecc358>]"
      ]
     },
     "execution_count": 26,
     "metadata": {},
     "output_type": "execute_result"
    },
    {
     "data": {
      "image/png": "[encoded data removed]",
      "text/plain": [
       "<matplotlib.figure.Figure at 0x1a27100d30>"
      ]
     },
     "metadata": {
      "needs_background": "light"
     },
     "output_type": "display_data"
    }
   ],
   "source": [
    "accuracy = []\n",
    "\n",
    "layers = [(), (100), (100, 100), (100, 100, 100)]\n",
    "\n",
    "for layer in layers:\n",
    "    lrm = MLPClassifier(hidden_layer_sizes=layer, early_stopping=True)\n",
    "    lrm.fit(x_train, y_train)\n",
    "    predictions = lrm.predict(x_val)\n",
    "    accuracy.append(sum(y_val == predictions) / len(predictions))\n",
    "    print('Run Complete')\n",
    "\n",
    "plt.plot(np.arange(len(layers)), accuracy)"
   ]
  },
  {
   "cell_type": "code",
   "execution_count": null,
   "metadata": {},
   "outputs": [],
   "source": []
  }
 ],
 "metadata": {
  "kernelspec": {
   "display_name": "Python 3",
   "language": "python",
   "name": "python3"
  },
  "language_info": {
   "codemirror_mode": {
    "name": "ipython",
    "version": 3
   },
   "file_extension": ".py",
   "mimetype": "text/x-python",
   "name": "python",
   "nbconvert_exporter": "python",
   "pygments_lexer": "ipython3",
   "version": "3.6.6"
  }
 },
 "nbformat": 4,
 "nbformat_minor": 2
}
