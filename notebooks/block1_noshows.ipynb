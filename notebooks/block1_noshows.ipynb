{
 "cells": [
  {
   "cell_type": "markdown",
   "metadata": {},
   "source": [
    "# MMCi Block 1 Computational Exercise\n",
    "---\n",
    "*From Logistic Regression to the Multilayer Perceptron: Predicting Clinic Appointment No-Shows*\n",
    "\n",
    "In this exercise, we will work with a dataset of [over 100k clinic appointments](https://www.kaggle.com/joniarroba/noshowappointments) to predict no-shows based on patient characteristics and appointment scheduling details. After importing and preprocessing the data, we will train logistic regression and multilayer perceptron models and compare their performance. After selecting a final model, we will apply it to a test set that we initially set aside."
   ]
  },
  {
   "cell_type": "code",
   "execution_count": 1,
   "metadata": {},
   "outputs": [],
   "source": [
    "import numpy as np\n",
    "import pandas as pd\n",
    "import seaborn as sns\n",
    "import matplotlib.pyplot as plt\n",
    "from sklearn.linear_model import LogisticRegression\n",
    "from sklearn.neural_network import MLPClassifier"
   ]
  },
  {
   "cell_type": "markdown",
   "metadata": {},
   "source": [
    "### Data Import\n",
    "We will begin by loading the data from .csv file with the 'pandas' data analysis library. Data is read with the `pd.read_csv()` command, which creates a pandas dataframe from the specified .csv file. In this command, we also tell pandas that some columns should be interpreted as a datetime, and others should be interpreted as categorical variables. After reading the file, we will drop unneeded columns using the `df.drop()` command, drop rows with missing values using the `df.dropna()` command, and rename misspelled column headers using `df.rename()`. Finally, we can preview the resulting dataframe using `df.head()`."
   ]
  },
  {
   "cell_type": "code",
   "execution_count": 2,
   "metadata": {},
   "outputs": [
    {
     "name": "stdout",
     "output_type": "stream",
     "text": [
      "Successfully loaded 110527 records.\n"
     ]
    },
    {
     "data": {
      "text/html": [
       "<div>\n",
       "<style>\n",
       "    .dataframe thead tr:only-child th {\n",
       "        text-align: right;\n",
       "    }\n",
       "\n",
       "    .dataframe thead th {\n",
       "        text-align: left;\n",
       "    }\n",
       "\n",
       "    .dataframe tbody tr th {\n",
       "        vertical-align: top;\n",
       "    }\n",
       "</style>\n",
       "<table border=\"1\" class=\"dataframe\">\n",
       "  <thead>\n",
       "    <tr style=\"text-align: right;\">\n",
       "      <th></th>\n",
       "      <th>Sex</th>\n",
       "      <th>ScheduledDay</th>\n",
       "      <th>AppointmentDay</th>\n",
       "      <th>Age</th>\n",
       "      <th>Neighborhood</th>\n",
       "      <th>Scholarship</th>\n",
       "      <th>Hypertension</th>\n",
       "      <th>Diabetes</th>\n",
       "      <th>Alcoholism</th>\n",
       "      <th>Handicap</th>\n",
       "      <th>SMS_received</th>\n",
       "      <th>No-show</th>\n",
       "    </tr>\n",
       "  </thead>\n",
       "  <tbody>\n",
       "    <tr>\n",
       "      <th>0</th>\n",
       "      <td>F</td>\n",
       "      <td>2016-04-29 18:38:08</td>\n",
       "      <td>2016-04-29</td>\n",
       "      <td>62.0</td>\n",
       "      <td>JARDIM DA PENHA</td>\n",
       "      <td>0</td>\n",
       "      <td>1</td>\n",
       "      <td>0</td>\n",
       "      <td>0</td>\n",
       "      <td>0</td>\n",
       "      <td>0</td>\n",
       "      <td>No</td>\n",
       "    </tr>\n",
       "    <tr>\n",
       "      <th>1</th>\n",
       "      <td>M</td>\n",
       "      <td>2016-04-29 16:08:27</td>\n",
       "      <td>2016-04-29</td>\n",
       "      <td>56.0</td>\n",
       "      <td>JARDIM DA PENHA</td>\n",
       "      <td>0</td>\n",
       "      <td>0</td>\n",
       "      <td>0</td>\n",
       "      <td>0</td>\n",
       "      <td>0</td>\n",
       "      <td>0</td>\n",
       "      <td>No</td>\n",
       "    </tr>\n",
       "    <tr>\n",
       "      <th>2</th>\n",
       "      <td>F</td>\n",
       "      <td>2016-04-29 16:19:04</td>\n",
       "      <td>2016-04-29</td>\n",
       "      <td>62.0</td>\n",
       "      <td>MATA DA PRAIA</td>\n",
       "      <td>0</td>\n",
       "      <td>0</td>\n",
       "      <td>0</td>\n",
       "      <td>0</td>\n",
       "      <td>0</td>\n",
       "      <td>0</td>\n",
       "      <td>No</td>\n",
       "    </tr>\n",
       "    <tr>\n",
       "      <th>3</th>\n",
       "      <td>F</td>\n",
       "      <td>2016-04-29 17:29:31</td>\n",
       "      <td>2016-04-29</td>\n",
       "      <td>8.0</td>\n",
       "      <td>PONTAL DE CAMBURI</td>\n",
       "      <td>0</td>\n",
       "      <td>0</td>\n",
       "      <td>0</td>\n",
       "      <td>0</td>\n",
       "      <td>0</td>\n",
       "      <td>0</td>\n",
       "      <td>No</td>\n",
       "    </tr>\n",
       "    <tr>\n",
       "      <th>4</th>\n",
       "      <td>F</td>\n",
       "      <td>2016-04-29 16:07:23</td>\n",
       "      <td>2016-04-29</td>\n",
       "      <td>56.0</td>\n",
       "      <td>JARDIM DA PENHA</td>\n",
       "      <td>0</td>\n",
       "      <td>1</td>\n",
       "      <td>1</td>\n",
       "      <td>0</td>\n",
       "      <td>0</td>\n",
       "      <td>0</td>\n",
       "      <td>No</td>\n",
       "    </tr>\n",
       "    <tr>\n",
       "      <th>5</th>\n",
       "      <td>F</td>\n",
       "      <td>2016-04-27 08:36:51</td>\n",
       "      <td>2016-04-29</td>\n",
       "      <td>76.0</td>\n",
       "      <td>REPÚBLICA</td>\n",
       "      <td>0</td>\n",
       "      <td>1</td>\n",
       "      <td>0</td>\n",
       "      <td>0</td>\n",
       "      <td>0</td>\n",
       "      <td>0</td>\n",
       "      <td>No</td>\n",
       "    </tr>\n",
       "    <tr>\n",
       "      <th>6</th>\n",
       "      <td>F</td>\n",
       "      <td>2016-04-27 15:05:12</td>\n",
       "      <td>2016-04-29</td>\n",
       "      <td>23.0</td>\n",
       "      <td>GOIABEIRAS</td>\n",
       "      <td>0</td>\n",
       "      <td>0</td>\n",
       "      <td>0</td>\n",
       "      <td>0</td>\n",
       "      <td>0</td>\n",
       "      <td>0</td>\n",
       "      <td>Yes</td>\n",
       "    </tr>\n",
       "    <tr>\n",
       "      <th>7</th>\n",
       "      <td>F</td>\n",
       "      <td>2016-04-27 15:39:58</td>\n",
       "      <td>2016-04-29</td>\n",
       "      <td>39.0</td>\n",
       "      <td>GOIABEIRAS</td>\n",
       "      <td>0</td>\n",
       "      <td>0</td>\n",
       "      <td>0</td>\n",
       "      <td>0</td>\n",
       "      <td>0</td>\n",
       "      <td>0</td>\n",
       "      <td>Yes</td>\n",
       "    </tr>\n",
       "    <tr>\n",
       "      <th>8</th>\n",
       "      <td>F</td>\n",
       "      <td>2016-04-29 08:02:16</td>\n",
       "      <td>2016-04-29</td>\n",
       "      <td>21.0</td>\n",
       "      <td>ANDORINHAS</td>\n",
       "      <td>0</td>\n",
       "      <td>0</td>\n",
       "      <td>0</td>\n",
       "      <td>0</td>\n",
       "      <td>0</td>\n",
       "      <td>0</td>\n",
       "      <td>No</td>\n",
       "    </tr>\n",
       "    <tr>\n",
       "      <th>9</th>\n",
       "      <td>F</td>\n",
       "      <td>2016-04-27 12:48:25</td>\n",
       "      <td>2016-04-29</td>\n",
       "      <td>19.0</td>\n",
       "      <td>CONQUISTA</td>\n",
       "      <td>0</td>\n",
       "      <td>0</td>\n",
       "      <td>0</td>\n",
       "      <td>0</td>\n",
       "      <td>0</td>\n",
       "      <td>0</td>\n",
       "      <td>No</td>\n",
       "    </tr>\n",
       "  </tbody>\n",
       "</table>\n",
       "</div>"
      ],
      "text/plain": [
       "  Sex        ScheduledDay AppointmentDay   Age       Neighborhood  \\\n",
       "0   F 2016-04-29 18:38:08     2016-04-29  62.0    JARDIM DA PENHA   \n",
       "1   M 2016-04-29 16:08:27     2016-04-29  56.0    JARDIM DA PENHA   \n",
       "2   F 2016-04-29 16:19:04     2016-04-29  62.0      MATA DA PRAIA   \n",
       "3   F 2016-04-29 17:29:31     2016-04-29   8.0  PONTAL DE CAMBURI   \n",
       "4   F 2016-04-29 16:07:23     2016-04-29  56.0    JARDIM DA PENHA   \n",
       "5   F 2016-04-27 08:36:51     2016-04-29  76.0          REPÚBLICA   \n",
       "6   F 2016-04-27 15:05:12     2016-04-29  23.0         GOIABEIRAS   \n",
       "7   F 2016-04-27 15:39:58     2016-04-29  39.0         GOIABEIRAS   \n",
       "8   F 2016-04-29 08:02:16     2016-04-29  21.0         ANDORINHAS   \n",
       "9   F 2016-04-27 12:48:25     2016-04-29  19.0          CONQUISTA   \n",
       "\n",
       "   Scholarship  Hypertension  Diabetes  Alcoholism Handicap  SMS_received  \\\n",
       "0            0             1         0           0        0             0   \n",
       "1            0             0         0           0        0             0   \n",
       "2            0             0         0           0        0             0   \n",
       "3            0             0         0           0        0             0   \n",
       "4            0             1         1           0        0             0   \n",
       "5            0             1         0           0        0             0   \n",
       "6            0             0         0           0        0             0   \n",
       "7            0             0         0           0        0             0   \n",
       "8            0             0         0           0        0             0   \n",
       "9            0             0         0           0        0             0   \n",
       "\n",
       "  No-show  \n",
       "0      No  \n",
       "1      No  \n",
       "2      No  \n",
       "3      No  \n",
       "4      No  \n",
       "5      No  \n",
       "6     Yes  \n",
       "7     Yes  \n",
       "8      No  \n",
       "9      No  "
      ]
     },
     "execution_count": 2,
     "metadata": {},
     "output_type": "execute_result"
    }
   ],
   "source": [
    "data_url = 'https://github.com/mengelhard/mmci_applied_ds/blob/master/data/noshows_raw.csv?raw=true'\n",
    "\n",
    "datatypes = {'Gender': 'category',\n",
    "             'Age': np.float32,\n",
    "             'Neighbourhood': 'category',\n",
    "             'Handcap': 'category'}\n",
    "\n",
    "datetime_columns = ['ScheduledDay', 'AppointmentDay']\n",
    "\n",
    "columns_to_exclude = ['PatientId', 'AppointmentID']\n",
    "\n",
    "df = pd.read_csv(\n",
    "    data_url,\n",
    "    dtype=datatypes,\n",
    "    parse_dates=datetime_columns)\n",
    "\n",
    "df = df.drop(columns_to_exclude, axis=1).dropna()\n",
    "\n",
    "df = df.rename(columns={'Neighbourhood': 'Neighborhood',\n",
    "                        'Hipertension': 'Hypertension',\n",
    "                        'Handcap': 'Handicap',\n",
    "                        'Gender': 'Sex'})\n",
    "\n",
    "print('Successfully loaded', len(df), 'records.')\n",
    "df.head(10)"
   ]
  },
  {
   "cell_type": "markdown",
   "metadata": {},
   "source": [
    "For this exercise, we will simplify the problem by correcting the imbalance between 'Shows' and 'No-Shows' in the dataset. Without doing this, an accuracy of $\\frac{Show}{Total} \\approx 79.8\\%$ can be achieved with a classifier that always predicts 'Show', which turns out to be a difficult benchmark to beat."
   ]
  },
  {
   "cell_type": "code",
   "execution_count": 3,
   "metadata": {},
   "outputs": [
    {
     "name": "stdout",
     "output_type": "stream",
     "text": [
      "There are 88208 Shows and 22319 No-Shows in the dataset.\n",
      "After correcting this imbalance, we have 44638 records.\n"
     ]
    }
   ],
   "source": [
    "show = df['No-show'] == 'No'\n",
    "noshow = df['No-show'] == 'Yes'\n",
    "\n",
    "print('There are', sum(show), 'Shows and', sum(noshow), 'No-Shows in the dataset.')\n",
    "\n",
    "df = pd.concat([df[noshow], df[show].sample(n=sum(noshow), random_state=0)])\n",
    "\n",
    "print('After correcting this imbalance, we have', len(df), 'records.')"
   ]
  },
  {
   "cell_type": "markdown",
   "metadata": {},
   "source": [
    "### Descriptive Statistics\n",
    "Let's quickly take a look at some descriptive statistics for the dataset as a whole, starting with age and sex. We can use the `series.describe()` command for numeric variables, and the `series.value_counts()` command for categorical variables. Note that the use of square brackets around a column name (e.g. `df['Age']`) allows us to pick out that column of the dataframe."
   ]
  },
  {
   "cell_type": "code",
   "execution_count": 4,
   "metadata": {},
   "outputs": [
    {
     "data": {
      "text/plain": [
       "count    44638.000000\n",
       "mean        35.954231\n",
       "std         22.713959\n",
       "min          0.000000\n",
       "25%         17.000000\n",
       "50%         35.000000\n",
       "75%         54.000000\n",
       "max        115.000000\n",
       "Name: Age, dtype: float64"
      ]
     },
     "execution_count": 4,
     "metadata": {},
     "output_type": "execute_result"
    }
   ],
   "source": [
    "df['Age'].describe()"
   ]
  },
  {
   "cell_type": "code",
   "execution_count": 5,
   "metadata": {},
   "outputs": [
    {
     "data": {
      "text/plain": [
       "F    29120\n",
       "M    15518\n",
       "Name: Sex, dtype: int64"
      ]
     },
     "execution_count": 5,
     "metadata": {},
     "output_type": "execute_result"
    }
   ],
   "source": [
    "df['Sex'].value_counts()"
   ]
  },
  {
   "cell_type": "markdown",
   "metadata": {},
   "source": [
    "Since several of the columns are (0, 1)-valued, we can describe them together more compactly."
   ]
  },
  {
   "cell_type": "code",
   "execution_count": 6,
   "metadata": {},
   "outputs": [
    {
     "data": {
      "text/html": [
       "<div>\n",
       "<style>\n",
       "    .dataframe thead tr:only-child th {\n",
       "        text-align: right;\n",
       "    }\n",
       "\n",
       "    .dataframe thead th {\n",
       "        text-align: left;\n",
       "    }\n",
       "\n",
       "    .dataframe tbody tr th {\n",
       "        vertical-align: top;\n",
       "    }\n",
       "</style>\n",
       "<table border=\"1\" class=\"dataframe\">\n",
       "  <thead>\n",
       "    <tr style=\"text-align: right;\">\n",
       "      <th></th>\n",
       "      <th>0</th>\n",
       "      <th>1</th>\n",
       "    </tr>\n",
       "  </thead>\n",
       "  <tbody>\n",
       "    <tr>\n",
       "      <th>Scholarship</th>\n",
       "      <td>39884</td>\n",
       "      <td>4754</td>\n",
       "    </tr>\n",
       "    <tr>\n",
       "      <th>Hypertension</th>\n",
       "      <td>36289</td>\n",
       "      <td>8349</td>\n",
       "    </tr>\n",
       "    <tr>\n",
       "      <th>Diabetes</th>\n",
       "      <td>41578</td>\n",
       "      <td>3060</td>\n",
       "    </tr>\n",
       "    <tr>\n",
       "      <th>Alcoholism</th>\n",
       "      <td>43291</td>\n",
       "      <td>1347</td>\n",
       "    </tr>\n",
       "    <tr>\n",
       "      <th>SMS_received</th>\n",
       "      <td>28339</td>\n",
       "      <td>16299</td>\n",
       "    </tr>\n",
       "  </tbody>\n",
       "</table>\n",
       "</div>"
      ],
      "text/plain": [
       "                  0      1\n",
       "Scholarship   39884   4754\n",
       "Hypertension  36289   8349\n",
       "Diabetes      41578   3060\n",
       "Alcoholism    43291   1347\n",
       "SMS_received  28339  16299"
      ]
     },
     "execution_count": 6,
     "metadata": {},
     "output_type": "execute_result"
    }
   ],
   "source": [
    "col = ['Scholarship', 'Hypertension', 'Diabetes', 'Alcoholism', 'SMS_received']\n",
    "df[col].apply(pd.Series.value_counts).T"
   ]
  },
  {
   "cell_type": "markdown",
   "metadata": {},
   "source": [
    "Instead of listing all the neighborhoods, let's first see how many there are, then create a histogram to see how many neighborhoods are common."
   ]
  },
  {
   "cell_type": "code",
   "execution_count": 7,
   "metadata": {},
   "outputs": [
    {
     "name": "stdout",
     "output_type": "stream",
     "text": [
      "There are 80 different neighborhoods.\n"
     ]
    },
    {
     "data": {
      "image/png": "[encoded data removed]",
      "text/plain": [
       "<matplotlib.figure.Figure at 0x1a245f3e48>"
      ]
     },
     "metadata": {
      "needs_background": "light"
     },
     "output_type": "display_data"
    }
   ],
   "source": [
    "print('There are', len(df['Neighborhood'].unique()), 'different neighborhoods.')\n",
    "plt.figure(figsize=(20,5))\n",
    "df['Neighborhood'].value_counts().plot(kind='bar', rot=90)\n",
    "plt.show()"
   ]
  },
  {
   "cell_type": "markdown",
   "metadata": {},
   "source": [
    "To use categorical variables in our model, we'll need to 'one-hot encode' them by creating individual binary indicators for each category. We'll create a helper function, `replace_categories_with_one_hot()`, to do this. We also need to look at the time difference between appointment scheduling and the appointment itself. We'll create another helper function, `difference_in_days()`, that will tell us how many days ahead of time the appointment was scheduled."
   ]
  },
  {
   "cell_type": "code",
   "execution_count": 8,
   "metadata": {},
   "outputs": [],
   "source": [
    "def replace_categories_with_one_hot(df, col):\n",
    "    return pd.concat([df.drop(col, axis=1), pd.get_dummies(df[col], prefix=col)], axis=1)\n",
    "\n",
    "def difference_in_days(df, col1, col2):\n",
    "    return (df[col2].dt.date - df[col1].dt.date).dt.days"
   ]
  },
  {
   "cell_type": "markdown",
   "metadata": {},
   "source": [
    "With these helpers defined, we will add several new features. These are described in comments (e.g. `# comment`) in the code block below."
   ]
  },
  {
   "cell_type": "code",
   "execution_count": 9,
   "metadata": {},
   "outputs": [
    {
     "data": {
      "text/html": [
       "<div>\n",
       "<style>\n",
       "    .dataframe thead tr:only-child th {\n",
       "        text-align: right;\n",
       "    }\n",
       "\n",
       "    .dataframe thead th {\n",
       "        text-align: left;\n",
       "    }\n",
       "\n",
       "    .dataframe tbody tr th {\n",
       "        vertical-align: top;\n",
       "    }\n",
       "</style>\n",
       "<table border=\"1\" class=\"dataframe\">\n",
       "  <thead>\n",
       "    <tr style=\"text-align: right;\">\n",
       "      <th></th>\n",
       "      <th>Sex</th>\n",
       "      <th>Age</th>\n",
       "      <th>Scholarship</th>\n",
       "      <th>Hypertension</th>\n",
       "      <th>Diabetes</th>\n",
       "      <th>Alcoholism</th>\n",
       "      <th>SMS_received</th>\n",
       "      <th>No-show</th>\n",
       "      <th>WaitLength</th>\n",
       "      <th>SameDay</th>\n",
       "      <th>...</th>\n",
       "      <th>ScheduledDayOfWeek_2</th>\n",
       "      <th>ScheduledDayOfWeek_3</th>\n",
       "      <th>ScheduledDayOfWeek_4</th>\n",
       "      <th>ScheduledDayOfWeek_5</th>\n",
       "      <th>AppointmentDayOfWeek_0</th>\n",
       "      <th>AppointmentDayOfWeek_1</th>\n",
       "      <th>AppointmentDayOfWeek_2</th>\n",
       "      <th>AppointmentDayOfWeek_3</th>\n",
       "      <th>AppointmentDayOfWeek_4</th>\n",
       "      <th>AppointmentDayOfWeek_5</th>\n",
       "    </tr>\n",
       "  </thead>\n",
       "  <tbody>\n",
       "    <tr>\n",
       "      <th>6</th>\n",
       "      <td>1</td>\n",
       "      <td>23.0</td>\n",
       "      <td>0</td>\n",
       "      <td>0</td>\n",
       "      <td>0</td>\n",
       "      <td>0</td>\n",
       "      <td>0</td>\n",
       "      <td>1</td>\n",
       "      <td>2</td>\n",
       "      <td>0</td>\n",
       "      <td>...</td>\n",
       "      <td>1</td>\n",
       "      <td>0</td>\n",
       "      <td>0</td>\n",
       "      <td>0</td>\n",
       "      <td>0</td>\n",
       "      <td>0</td>\n",
       "      <td>0</td>\n",
       "      <td>0</td>\n",
       "      <td>1</td>\n",
       "      <td>0</td>\n",
       "    </tr>\n",
       "    <tr>\n",
       "      <th>7</th>\n",
       "      <td>1</td>\n",
       "      <td>39.0</td>\n",
       "      <td>0</td>\n",
       "      <td>0</td>\n",
       "      <td>0</td>\n",
       "      <td>0</td>\n",
       "      <td>0</td>\n",
       "      <td>1</td>\n",
       "      <td>2</td>\n",
       "      <td>0</td>\n",
       "      <td>...</td>\n",
       "      <td>1</td>\n",
       "      <td>0</td>\n",
       "      <td>0</td>\n",
       "      <td>0</td>\n",
       "      <td>0</td>\n",
       "      <td>0</td>\n",
       "      <td>0</td>\n",
       "      <td>0</td>\n",
       "      <td>1</td>\n",
       "      <td>0</td>\n",
       "    </tr>\n",
       "    <tr>\n",
       "      <th>11</th>\n",
       "      <td>0</td>\n",
       "      <td>29.0</td>\n",
       "      <td>0</td>\n",
       "      <td>0</td>\n",
       "      <td>0</td>\n",
       "      <td>0</td>\n",
       "      <td>1</td>\n",
       "      <td>1</td>\n",
       "      <td>3</td>\n",
       "      <td>0</td>\n",
       "      <td>...</td>\n",
       "      <td>0</td>\n",
       "      <td>0</td>\n",
       "      <td>0</td>\n",
       "      <td>0</td>\n",
       "      <td>0</td>\n",
       "      <td>0</td>\n",
       "      <td>0</td>\n",
       "      <td>0</td>\n",
       "      <td>1</td>\n",
       "      <td>0</td>\n",
       "    </tr>\n",
       "    <tr>\n",
       "      <th>17</th>\n",
       "      <td>1</td>\n",
       "      <td>40.0</td>\n",
       "      <td>1</td>\n",
       "      <td>0</td>\n",
       "      <td>0</td>\n",
       "      <td>0</td>\n",
       "      <td>0</td>\n",
       "      <td>1</td>\n",
       "      <td>1</td>\n",
       "      <td>0</td>\n",
       "      <td>...</td>\n",
       "      <td>0</td>\n",
       "      <td>1</td>\n",
       "      <td>0</td>\n",
       "      <td>0</td>\n",
       "      <td>0</td>\n",
       "      <td>0</td>\n",
       "      <td>0</td>\n",
       "      <td>0</td>\n",
       "      <td>1</td>\n",
       "      <td>0</td>\n",
       "    </tr>\n",
       "    <tr>\n",
       "      <th>20</th>\n",
       "      <td>1</td>\n",
       "      <td>30.0</td>\n",
       "      <td>0</td>\n",
       "      <td>0</td>\n",
       "      <td>0</td>\n",
       "      <td>0</td>\n",
       "      <td>0</td>\n",
       "      <td>1</td>\n",
       "      <td>2</td>\n",
       "      <td>0</td>\n",
       "      <td>...</td>\n",
       "      <td>1</td>\n",
       "      <td>0</td>\n",
       "      <td>0</td>\n",
       "      <td>0</td>\n",
       "      <td>0</td>\n",
       "      <td>0</td>\n",
       "      <td>0</td>\n",
       "      <td>0</td>\n",
       "      <td>1</td>\n",
       "      <td>0</td>\n",
       "    </tr>\n",
       "    <tr>\n",
       "      <th>21</th>\n",
       "      <td>1</td>\n",
       "      <td>4.0</td>\n",
       "      <td>0</td>\n",
       "      <td>0</td>\n",
       "      <td>0</td>\n",
       "      <td>0</td>\n",
       "      <td>0</td>\n",
       "      <td>1</td>\n",
       "      <td>2</td>\n",
       "      <td>0</td>\n",
       "      <td>...</td>\n",
       "      <td>1</td>\n",
       "      <td>0</td>\n",
       "      <td>0</td>\n",
       "      <td>0</td>\n",
       "      <td>0</td>\n",
       "      <td>0</td>\n",
       "      <td>0</td>\n",
       "      <td>0</td>\n",
       "      <td>1</td>\n",
       "      <td>0</td>\n",
       "    </tr>\n",
       "    <tr>\n",
       "      <th>22</th>\n",
       "      <td>0</td>\n",
       "      <td>13.0</td>\n",
       "      <td>0</td>\n",
       "      <td>0</td>\n",
       "      <td>0</td>\n",
       "      <td>0</td>\n",
       "      <td>1</td>\n",
       "      <td>1</td>\n",
       "      <td>4</td>\n",
       "      <td>0</td>\n",
       "      <td>...</td>\n",
       "      <td>0</td>\n",
       "      <td>0</td>\n",
       "      <td>0</td>\n",
       "      <td>0</td>\n",
       "      <td>0</td>\n",
       "      <td>0</td>\n",
       "      <td>0</td>\n",
       "      <td>0</td>\n",
       "      <td>1</td>\n",
       "      <td>0</td>\n",
       "    </tr>\n",
       "    <tr>\n",
       "      <th>31</th>\n",
       "      <td>0</td>\n",
       "      <td>12.0</td>\n",
       "      <td>1</td>\n",
       "      <td>0</td>\n",
       "      <td>0</td>\n",
       "      <td>0</td>\n",
       "      <td>0</td>\n",
       "      <td>1</td>\n",
       "      <td>2</td>\n",
       "      <td>0</td>\n",
       "      <td>...</td>\n",
       "      <td>1</td>\n",
       "      <td>0</td>\n",
       "      <td>0</td>\n",
       "      <td>0</td>\n",
       "      <td>0</td>\n",
       "      <td>0</td>\n",
       "      <td>0</td>\n",
       "      <td>0</td>\n",
       "      <td>1</td>\n",
       "      <td>0</td>\n",
       "    </tr>\n",
       "    <tr>\n",
       "      <th>44</th>\n",
       "      <td>1</td>\n",
       "      <td>78.0</td>\n",
       "      <td>0</td>\n",
       "      <td>1</td>\n",
       "      <td>1</td>\n",
       "      <td>0</td>\n",
       "      <td>0</td>\n",
       "      <td>1</td>\n",
       "      <td>1</td>\n",
       "      <td>0</td>\n",
       "      <td>...</td>\n",
       "      <td>0</td>\n",
       "      <td>1</td>\n",
       "      <td>0</td>\n",
       "      <td>0</td>\n",
       "      <td>0</td>\n",
       "      <td>0</td>\n",
       "      <td>0</td>\n",
       "      <td>0</td>\n",
       "      <td>1</td>\n",
       "      <td>0</td>\n",
       "    </tr>\n",
       "    <tr>\n",
       "      <th>48</th>\n",
       "      <td>1</td>\n",
       "      <td>58.0</td>\n",
       "      <td>0</td>\n",
       "      <td>0</td>\n",
       "      <td>0</td>\n",
       "      <td>0</td>\n",
       "      <td>1</td>\n",
       "      <td>1</td>\n",
       "      <td>3</td>\n",
       "      <td>0</td>\n",
       "      <td>...</td>\n",
       "      <td>0</td>\n",
       "      <td>0</td>\n",
       "      <td>0</td>\n",
       "      <td>0</td>\n",
       "      <td>0</td>\n",
       "      <td>0</td>\n",
       "      <td>0</td>\n",
       "      <td>0</td>\n",
       "      <td>1</td>\n",
       "      <td>0</td>\n",
       "    </tr>\n",
       "  </tbody>\n",
       "</table>\n",
       "<p>10 rows × 124 columns</p>\n",
       "</div>"
      ],
      "text/plain": [
       "    Sex   Age  Scholarship  Hypertension  Diabetes  Alcoholism  SMS_received  \\\n",
       "6     1  23.0            0             0         0           0             0   \n",
       "7     1  39.0            0             0         0           0             0   \n",
       "11    0  29.0            0             0         0           0             1   \n",
       "17    1  40.0            1             0         0           0             0   \n",
       "20    1  30.0            0             0         0           0             0   \n",
       "21    1   4.0            0             0         0           0             0   \n",
       "22    0  13.0            0             0         0           0             1   \n",
       "31    0  12.0            1             0         0           0             0   \n",
       "44    1  78.0            0             1         1           0             0   \n",
       "48    1  58.0            0             0         0           0             1   \n",
       "\n",
       "    No-show  WaitLength  SameDay           ...            \\\n",
       "6         1           2        0           ...             \n",
       "7         1           2        0           ...             \n",
       "11        1           3        0           ...             \n",
       "17        1           1        0           ...             \n",
       "20        1           2        0           ...             \n",
       "21        1           2        0           ...             \n",
       "22        1           4        0           ...             \n",
       "31        1           2        0           ...             \n",
       "44        1           1        0           ...             \n",
       "48        1           3        0           ...             \n",
       "\n",
       "    ScheduledDayOfWeek_2  ScheduledDayOfWeek_3  ScheduledDayOfWeek_4  \\\n",
       "6                      1                     0                     0   \n",
       "7                      1                     0                     0   \n",
       "11                     0                     0                     0   \n",
       "17                     0                     1                     0   \n",
       "20                     1                     0                     0   \n",
       "21                     1                     0                     0   \n",
       "22                     0                     0                     0   \n",
       "31                     1                     0                     0   \n",
       "44                     0                     1                     0   \n",
       "48                     0                     0                     0   \n",
       "\n",
       "    ScheduledDayOfWeek_5  AppointmentDayOfWeek_0  AppointmentDayOfWeek_1  \\\n",
       "6                      0                       0                       0   \n",
       "7                      0                       0                       0   \n",
       "11                     0                       0                       0   \n",
       "17                     0                       0                       0   \n",
       "20                     0                       0                       0   \n",
       "21                     0                       0                       0   \n",
       "22                     0                       0                       0   \n",
       "31                     0                       0                       0   \n",
       "44                     0                       0                       0   \n",
       "48                     0                       0                       0   \n",
       "\n",
       "    AppointmentDayOfWeek_2  AppointmentDayOfWeek_3  AppointmentDayOfWeek_4  \\\n",
       "6                        0                       0                       1   \n",
       "7                        0                       0                       1   \n",
       "11                       0                       0                       1   \n",
       "17                       0                       0                       1   \n",
       "20                       0                       0                       1   \n",
       "21                       0                       0                       1   \n",
       "22                       0                       0                       1   \n",
       "31                       0                       0                       1   \n",
       "44                       0                       0                       1   \n",
       "48                       0                       0                       1   \n",
       "\n",
       "    AppointmentDayOfWeek_5  \n",
       "6                        0  \n",
       "7                        0  \n",
       "11                       0  \n",
       "17                       0  \n",
       "20                       0  \n",
       "21                       0  \n",
       "22                       0  \n",
       "31                       0  \n",
       "44                       0  \n",
       "48                       0  \n",
       "\n",
       "[10 rows x 124 columns]"
      ]
     },
     "execution_count": 9,
     "metadata": {},
     "output_type": "execute_result"
    }
   ],
   "source": [
    "# How many days have elapsed between scheduling the appointment and the appointment itself?\n",
    "df['WaitLength'] = difference_in_days(df, 'ScheduledDay', 'AppointmentDay')\n",
    "\n",
    "# Was this a same-day appointment?\n",
    "df['SameDay'] = (df['WaitLength'] == 0).astype(np.int64)\n",
    "\n",
    "# In which hour of the day was it scheduled?\n",
    "df['ScheduledHour'] = df['ScheduledDay'].dt.hour\n",
    "\n",
    "# On which day of the week was it scheduled? Which day was the appointment?\n",
    "df['ScheduledDayOfWeek'] = df['ScheduledDay'].dt.dayofweek\n",
    "df['AppointmentDayOfWeek'] = df['AppointmentDay'].dt.dayofweek\n",
    "\n",
    "# Now, remove datetime columns\n",
    "df = df.drop(['ScheduledDay', 'AppointmentDay'], axis=1)\n",
    "\n",
    "# Convert categorical variables with > 2 categories to one-hot encoding\n",
    "df = replace_categories_with_one_hot(df, 'Handicap')\n",
    "df = replace_categories_with_one_hot(df, 'Neighborhood')\n",
    "df = replace_categories_with_one_hot(df, 'ScheduledHour')\n",
    "df = replace_categories_with_one_hot(df, 'ScheduledDayOfWeek')\n",
    "df = replace_categories_with_one_hot(df, 'AppointmentDayOfWeek')\n",
    "\n",
    "# Convert categorical variables with 2 categories to binary encoding\n",
    "df['Sex'] = (df['Sex'] == 'F').astype(np.int64)\n",
    "df['No-show'] = (df['No-show'] == 'Yes').astype(np.int64)\n",
    "\n",
    "# View resulting dataframe\n",
    "df.head(10)"
   ]
  },
  {
   "cell_type": "markdown",
   "metadata": {},
   "source": [
    "Finally, we will normalize our only two numeric variables, Age and WaitLength, by subtracting their mean, then dividing by their standard deviation. Our preprocessing is now complete."
   ]
  },
  {
   "cell_type": "code",
   "execution_count": 10,
   "metadata": {},
   "outputs": [],
   "source": [
    "df['Age'] = (df['Age'] - df['Age'].mean()) / df['Age'].std()\n",
    "df['WaitLength'] = (df['WaitLength'] - df['WaitLength'].mean()) / df['WaitLength'].std()"
   ]
  },
  {
   "cell_type": "markdown",
   "metadata": {},
   "source": [
    "### Partitioning our data into train, validation, and test sets\n",
    "We will first use the `df.sample()` command to randomize the order of our data. This will ensure that we are assigning data to the train, validation, and test sets at random. Having randomized, we'll assign the first 70% of the data to the training set and the second 15% to the validation set. The final 15% will be set aside as a test set, and should used **only at the very end of the exercise**, once model development is complete. In this code block, we also separate our labels (y), which are found in the 'No-show' column, from our feature variables (x) in the other columns."
   ]
  },
  {
   "cell_type": "code",
   "execution_count": 11,
   "metadata": {},
   "outputs": [
    {
     "name": "stdout",
     "output_type": "stream",
     "text": [
      "Our train, validation, and test sets contain 31246, 6696, and 6696 instances, respectively.\n"
     ]
    }
   ],
   "source": [
    "shuffled_df = df.sample(frac=1, random_state=0).reset_index(drop=True)\n",
    "\n",
    "val_start_idx = int(.7 * len(df))\n",
    "test_start_idx = int(.85 * len(df))\n",
    "\n",
    "x_train = shuffled_df[:val_start_idx].drop('No-show', axis=1)\n",
    "x_val = shuffled_df[val_start_idx:test_start_idx].drop('No-show', axis=1)\n",
    "x_test = shuffled_df[test_start_idx:].drop('No-show', axis=1)\n",
    "\n",
    "y_train = shuffled_df[:val_start_idx]['No-show']\n",
    "y_val = shuffled_df[val_start_idx:test_start_idx]['No-show']\n",
    "y_test = shuffled_df[test_start_idx:]['No-show']\n",
    "\n",
    "print('Our train, validation, and test sets contain %i, %i, and %i instances, respectively.' % (\n",
    "    len(x_train), len(x_val), len(x_test)))"
   ]
  },
  {
   "cell_type": "markdown",
   "metadata": {},
   "source": [
    "### Fitting a logistic regression model\n",
    "---\n",
    "We're now ready to fit a logistic regression model to our data. We will create the model using the `LogisticRegression()` command, then fit it to our training data (i.e. learn which parameter values are best) using the model's `.fit()` method. Once we have a fitted model, we are free to check its performance on the validation set. For now, we'll use accuracy as our performance metric. Accuracy may be calculated as $\\frac{\\text{number of correct predictions}}{\\text{number of predictions in total}}$. We'll explore other performance metrics later in the course."
   ]
  },
  {
   "cell_type": "code",
   "execution_count": 12,
   "metadata": {},
   "outputs": [
    {
     "name": "stdout",
     "output_type": "stream",
     "text": [
      "The logistic regression model is 67.49% accurate.\n"
     ]
    }
   ],
   "source": [
    "# Fit the model\n",
    "lrm = LogisticRegression()\n",
    "lrm.fit(x_train, y_train)\n",
    "\n",
    "# Make predictions on our validation set\n",
    "predictions = lrm.predict(x_val)\n",
    "\n",
    "# Evaluate accuracy on the validation set\n",
    "accuracy = sum(y_val == predictions) / len(predictions)\n",
    "    \n",
    "print('The logistic regression model is %.2f%% accurate.' % (accuracy * 100))"
   ]
  },
  {
   "cell_type": "markdown",
   "metadata": {},
   "source": [
    "### Fitting a multilayer perceptron model\n",
    "---\n",
    "Alternatively, we can fit a multilayer perceptron to our data. Similar to before, we'll create the model using the `MLPClassifier()` command, then fit it to our training data (i.e. learn which parameter values are best) using the model's `.fit()` method. Once we have a fitted model, we are free to check its performance on the validation set, again using accuracy as our performance metric.\n",
    "\n",
    "The architecture of the MLP model is specified using the `hidden_layer_sizes` parameter. If we want one hidden layer that is 100 values wide, we can say `hidden_layer_sizes=(100)`. If we want three hidden layers, each with 10 values, we can say `hidden_layer_sizes=(10, 10, 10)`. To start, let's start with *no* hidden layers to verify that an MLP with no hidden layers is the same as logistic regression."
   ]
  },
  {
   "cell_type": "code",
   "execution_count": 13,
   "metadata": {},
   "outputs": [
    {
     "name": "stdout",
     "output_type": "stream",
     "text": [
      "The multilayer perceptron model is 67.46% accurate.\n"
     ]
    }
   ],
   "source": [
    "# Fit the model\n",
    "mlp = MLPClassifier(hidden_layer_sizes=(), alpha=1e-3)\n",
    "mlp.fit(x_train, y_train)\n",
    "\n",
    "# Make predictions on our validation set\n",
    "predictions = mlp.predict(x_val)\n",
    "\n",
    "# Evaluate accuracy on the validation set\n",
    "accuracy = sum(y_val == predictions) / len(predictions)\n",
    "    \n",
    "print('The multilayer perceptron model is %.2f%% accurate.' % (accuracy * 100))"
   ]
  },
  {
   "cell_type": "markdown",
   "metadata": {},
   "source": [
    "Now, let's start exploring MLP architectures. We'll try a model with one narrow hidden layer, another with one wide hidden layer, and a third with several narrow hidden layers. When training, we'll set `early_stopping=True` to mitigate possible overfitting and reduce training time."
   ]
  },
  {
   "cell_type": "code",
   "execution_count": 14,
   "metadata": {},
   "outputs": [
    {
     "name": "stdout",
     "output_type": "stream",
     "text": [
      "The multilayer perceptron model is 67.10% accurate.\n"
     ]
    }
   ],
   "source": [
    "# Try one narrow hidden layer\n",
    "mlp = MLPClassifier(hidden_layer_sizes=(10), early_stopping=True)\n",
    "mlp.fit(x_train, y_train)\n",
    "\n",
    "# Make predictions on our validation set\n",
    "predictions = mlp.predict(x_val)\n",
    "\n",
    "# Evaluate accuracy on the validation set\n",
    "accuracy = sum(y_val == predictions) / len(predictions)\n",
    "    \n",
    "print('The multilayer perceptron model is %.2f%% accurate.' % (accuracy * 100))"
   ]
  },
  {
   "cell_type": "code",
   "execution_count": 15,
   "metadata": {},
   "outputs": [
    {
     "name": "stdout",
     "output_type": "stream",
     "text": [
      "The multilayer perceptron model is 67.28% accurate.\n"
     ]
    }
   ],
   "source": [
    "# Try one wide hidden layer\n",
    "mlp = MLPClassifier(hidden_layer_sizes=(200), early_stopping=True)\n",
    "mlp.fit(x_train, y_train)\n",
    "\n",
    "# Make predictions on our validation set\n",
    "predictions = mlp.predict(x_val)\n",
    "\n",
    "# Evaluate accuracy on the validation set\n",
    "accuracy = sum(y_val == predictions) / len(predictions)\n",
    "    \n",
    "print('The multilayer perceptron model is %.2f%% accurate.' % (accuracy * 100))"
   ]
  },
  {
   "cell_type": "code",
   "execution_count": 16,
   "metadata": {},
   "outputs": [
    {
     "name": "stdout",
     "output_type": "stream",
     "text": [
      "The multilayer perceptron model is 66.82% accurate.\n"
     ]
    }
   ],
   "source": [
    "# Try one with several narrow hidden layers\n",
    "mlp = MLPClassifier(hidden_layer_sizes=(10, 10, 10), early_stopping=True)\n",
    "mlp.fit(x_train, y_train)\n",
    "\n",
    "# Make predictions on our validation set\n",
    "predictions = mlp.predict(x_val)\n",
    "\n",
    "# Evaluate accuracy on the validation set\n",
    "accuracy = sum(y_val == predictions) / len(predictions)\n",
    "    \n",
    "print('The multilayer perceptron model is %.2f%% accurate.' % (accuracy * 100))"
   ]
  },
  {
   "cell_type": "markdown",
   "metadata": {},
   "source": [
    "### Exercise 1: Fit a new MLP architecture of your choosing\n",
    "---\n",
    "So far, we weren't able to improve on our logistic regression model using a multilayer perceptron model. But, just to be sure, let's try one more MLP architecture, one you will choose. Specify new layer sizes in the code block below, then run the code block to evaluate how well your architecture performs on the validation set. You are welcome to experiment with additional 'hyperparameters' of the MLP, such as the regularization penalty, if you are comfortable doing this."
   ]
  },
  {
   "cell_type": "code",
   "execution_count": null,
   "metadata": {},
   "outputs": [],
   "source": [
    "# SPECIFY YOUR NEW MLP ARCHITECTURE BY UNCOMMENTING THE NEXT LINE:\n",
    "# layers = (layer1_width, layer2_width, ...)\n",
    "\n",
    "# Train the MLP\n",
    "mlp = MLPClassifier(hidden_layer_sizes=layers, early_stopping=True)\n",
    "mlp.fit(x_train, y_train)\n",
    "\n",
    "# Make predictions on our validation set\n",
    "predictions = mlp.predict(x_val)\n",
    "\n",
    "# Evaluate accuracy on the validation set\n",
    "accuracy = sum(y_val == predictions) / len(predictions)\n",
    "    \n",
    "print('The new multilayer perceptron architecture is %.2f%% accurate.' % (accuracy * 100))"
   ]
  },
  {
   "cell_type": "markdown",
   "metadata": {},
   "source": [
    "### Exercise 2: Choose a final model and evaluate it on the test set\n",
    "---\n",
    "For this dataset, it looks like using an MLP didn't help us very much: logistic regression performs as well as or better than the MLP models we tested. Later in the course, however, we'll see examples of just the opposite, where logistic regression performs very poorly but an MLP works very well. As a second exercise, let's choose a final model, whether logistic regression or something else, and evaluate its performance on the test set. The code block below is currently set up to use logistic regression, but you're welcome to use another classification model if you prefer. Whichever you choose, you'll then need to alter the code below to test your model's performance on the test set rather than the validation set. Remember, you should evaluate test perforamance only once."
   ]
  },
  {
   "cell_type": "code",
   "execution_count": null,
   "metadata": {},
   "outputs": [],
   "source": [
    "# Fit the model; you may use something other than logistic regression if you prefer\n",
    "lrm = LogisticRegression()\n",
    "lrm.fit(x_train, y_train)\n",
    "\n",
    "# MODIFY THE LINES BELOW to:\n",
    "# (a) make predictions on the test set rather than the validation set; and\n",
    "# (b) evaluate those predictions\n",
    "predictions = lrm.predict(x_val)\n",
    "accuracy = sum(y_val == predictions) / len(predictions)\n",
    "    \n",
    "print('The final model is %.2f%% accurate on the test set.' % (accuracy * 100))"
   ]
  },
  {
   "cell_type": "markdown",
   "metadata": {},
   "source": [
    "### Wrapping Up:\n",
    "---\n",
    "Download your completed notebook as an .html file using the menu above. Please submit this file as 'Computational Exercise 1' in Sakai."
   ]
  }
 ],
 "metadata": {
  "kernelspec": {
   "display_name": "Python 3",
   "language": "python",
   "name": "python3"
  },
  "language_info": {
   "codemirror_mode": {
    "name": "ipython",
    "version": 3
   },
   "file_extension": ".py",
   "mimetype": "text/x-python",
   "name": "python",
   "nbconvert_exporter": "python",
   "pygments_lexer": "ipython3",
   "version": "3.6.6"
  }
 },
 "nbformat": 4,
 "nbformat_minor": 2
}
